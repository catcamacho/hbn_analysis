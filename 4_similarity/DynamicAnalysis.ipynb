{
 "cells": [
  {
   "cell_type": "markdown",
   "id": "1232c2f6-adfd-4783-b5c7-5c0169992734",
   "metadata": {},
   "source": [
    "# Load in data"
   ]
  },
  {
   "cell_type": "code",
   "execution_count": 1,
   "id": "1b1d85cf-1c3f-4354-99d0-c62d6ebec2f7",
   "metadata": {},
   "outputs": [],
   "source": [
    "import pandas as pd\n",
    "import numpy as np\n",
    "import nibabel as nib\n",
    "import os\n",
    "import scipy.stats as scp\n",
    "import matplotlib.pyplot as plt\n",
    "import seaborn as sns\n",
    "from datetime import date\n",
    "import itertools\n",
    "from scipy.signal import hilbert\n",
    "from sklearn.preprocessing import MinMaxScaler\n",
    "import scipy.signal as scs\n",
    "import json\n",
    "import pickle\n",
    "import plotly.graph_objects as go\n",
    "from tqdm.auto import tqdm\n",
    "from itertools import combinations\n",
    "import statsmodels.formula.api as smf\n",
    "\n",
    "sns.set(context='talk', style='white', font='Arial')\n",
    "\n",
    "today = date.today().strftime('%Y%m%d')\n",
    "\n",
    "project_dir = '/Users/catcamacho/Library/CloudStorage/Box-Box/CCP/HBN_study/'\n",
    "data_dir = project_dir + 'proc/group/parcel_timeseries/sub_ts/'\n",
    "out_dir = project_dir + 'proc/group/RSA/ISPS/'\n",
    "sample_file = project_dir + 'proc/group/datasets_info/sample_gord.32k_fs_LR.pscalar.nii'\n",
    "atlas_file = project_dir + 'proc/null_lL_WG33/Gordon333_SeitzmanSubcortical.32k_fs_LR.dlabel.nii'\n",
    "os.makedirs(out_dir,exist_ok=True)\n",
    "\n",
    "ax0 = nib.load(sample_file).header.get_axis(0)\n",
    "ax1 = nib.load(sample_file).header.get_axis(1)\n",
    "\n",
    "TR = 0.8\n",
    "\n",
    "# load timeseries data info\n",
    "subinfo = pd.read_csv(project_dir + 'proc/group/datasets/firstleveldatalabels_withpub_thresh0.8_20220412.csv', index_col=0)\n",
    "\n",
    "# get network labels\n",
    "parcel_labels = nib.load(sample_file).header.get_axis(1).name\n",
    "network_labels = []\n",
    "for s in parcel_labels:\n",
    "    b = s.split('_')\n",
    "    if len(b)<2:\n",
    "        network_labels.append(b[0])\n",
    "    else:\n",
    "        network_labels.append(b[1])\n",
    "network_labels = np.array(network_labels)\n",
    "network_names, network_sizes = np.unique(network_labels, return_counts=True)\n",
    "\n",
    "subinfo = subinfo.drop(['set','cond'], axis=1)\n",
    "subinfo = subinfo.drop_duplicates()"
   ]
  },
  {
   "cell_type": "markdown",
   "id": "7242ea7f-efc5-49a5-9171-9e6684344e9b",
   "metadata": {
    "tags": []
   },
   "source": [
    "# set up functions"
   ]
  },
  {
   "cell_type": "markdown",
   "id": "316df238-f844-48a8-9dac-780779e11d28",
   "metadata": {
    "tags": []
   },
   "source": [
    "## processing"
   ]
  },
  {
   "cell_type": "code",
   "execution_count": 2,
   "id": "f5b8d78b-2633-452d-9f96-8b9fab3e0840",
   "metadata": {},
   "outputs": [],
   "source": [
    "def compile_ts_data(subdf, movie, datadir, outfile):\n",
    "    \"\"\"\n",
    "    combine data for each movie together into 1 file\n",
    "    \n",
    "    Parameters\n",
    "    ----------\n",
    "    subdf: DataFrame\n",
    "        A dataframe with subject IDs as the index. Includes IDs for all usable data.\n",
    "    movie: str\n",
    "        Corresponds with the str for the movie content to concatenate (e.g., \"DM\" or \"TP\").\n",
    "    datadir: folder path\n",
    "        Path to folder with the subject timeseries ciftis.\n",
    "    outfile: file path\n",
    "        Path including filename to save the output data of shape Ntimepoints x Nparcels x Nsubjects.\n",
    "    \n",
    "    Returns\n",
    "    -------\n",
    "    data: numpy array\n",
    "        The compiled data of shape Ntimepoints x Nparcels x Nsubjects\n",
    "    \"\"\"\n",
    "    if not isinstance(subdf, pd.DataFrame):\n",
    "        subdf = pd.read_csv(subdf, index_col=0)\n",
    "    \n",
    "    for sub in subdf.index:\n",
    "        file = '{0}{1}_task-movie{2}_bold1_AP_Atlas_rescale_resid0.9_filt_gordonseitzman.32k_fs_LR.ptseries.nii'.format(datadir,sub, movie)\n",
    "        if sub == subdf.index[0]:\n",
    "            data = StandardScaler().fit_transform(nib.load(file).get_fdata())\n",
    "            data = np.expand_dims(data, axis=2)\n",
    "        else:\n",
    "            t = StandardScaler().fit_transform(nib.load(file).get_fdata())\n",
    "            t = np.expand_dims(t, axis=2)\n",
    "            data = np.concatenate([data,t],axis=2)\n",
    "    \n",
    "    print('Compile data from {0} brain regions measured at {1} timepoints from {2} participants.'.format(data.shape[1],data.shape[0],data.shape[2]))\n",
    "    np.save(outfile, data)\n",
    "    return(data)\n",
    "\n",
    "\n",
    "def compute_group_phase(group_ts_data, outfile):\n",
    "    \"\"\"\n",
    "    convert parcel ts to standard units & compute phase angles for each parcel ts\n",
    "    \n",
    "    Parameters\n",
    "    ----------\n",
    "    group_ts_data: filepath OR numpy array\n",
    "        File or numpy array with compiled timeseries data of shape Ntimepoints x Nparcels x Nsubjects \n",
    "    \n",
    "    Returns\n",
    "    -------\n",
    "    group_phase_data: numpy array\n",
    "        The compiled data of shape Ntimepoints x Nparcels x Nsubjects\n",
    "    \"\"\"\n",
    "    \n",
    "    if not isinstance(group_ts_data, np.ndarray):\n",
    "        group_ts_data = np.load(group_ts_data)\n",
    "    \n",
    "    group_phase_data = np.zeros_like(group_ts_data)\n",
    "    \n",
    "    for a in range(0,group_ts_data.shape[1]):\n",
    "        for b in range(0,group_ts_data.shape[2]):\n",
    "            group_phase_data[:,a,b] = np.angle(hilbert(group_ts_data[:,a,b]), deg=False)\n",
    "    \n",
    "    np.save(outfile, group_phase_data)\n",
    "    \n",
    "    return(group_phase_data)\n",
    "\n",
    "\n",
    "def compute_isps(group_phase_data, outprefix, savemean=True):\n",
    "    \"\"\"\n",
    "    parcel-wise inter-subject phase synchrony- output pairwise IPS and mean global IPS\n",
    "    \n",
    "    Parameters\n",
    "    ----------\n",
    "    group_phase_data: numpy array\n",
    "        The compiled data of shape Ntimepoints x Nparcels x Nsubjects\n",
    "        \n",
    "    Returns\n",
    "    -------\n",
    "    isps_data: numpy array\n",
    "        intersubject phase synchrony data of shape Nparcels x Nsubjects x Nsubjects x Ntimepoints\n",
    "    mean_isps_data: numpy array\n",
    "        intersubject phase synchrony data, averaged across time, of shape Nparcels x Nsubjects x Nsubjects\n",
    "        \n",
    "    \"\"\"\n",
    "    if not isinstance(group_phase_data, np.ndarray):\n",
    "        group_phase_data = np.load(group_phase_data)\n",
    "    \n",
    "    if os.path.isdir(outprefix):\n",
    "        file_name = os.path.join(outprefix, 'isps_data.dat')\n",
    "    else:\n",
    "        file_name = outprefix + 'isps_data.dat'\n",
    "\n",
    "    isps_data = np.memmap(file_name, dtype=np.float32, mode='w+',\n",
    "                          shape=(group_phase_data.shape[1],group_phase_data.shape[2],\n",
    "                                 group_phase_data.shape[2],\n",
    "                                 group_phase_data.shape[0]))\n",
    "    \n",
    "    subs = range(0, group_phase_data.shape[2])\n",
    "    for region in range(0, group_phase_data.shape[1]):\n",
    "        combs = itertools.combinations(subs, 2)\n",
    "        for c in combs:\n",
    "            sub1 = group_phase_data[:, region, c[0]]\n",
    "            sub2 = group_phase_data[:, region, c[1]]\n",
    "            a = 1 - np.sin(np.abs(sub1 - sub2) / 2)\n",
    "            isps_data[region,c[0],c[1],:] = a\n",
    "            isps_data[region,c[1],c[0],:] = a\n",
    "        \n",
    "    if savemean:\n",
    "        mask = np.tri(isps_data.shape[2], isps_data.shape[2], -1, dtype=int)\n",
    "        mean_isps_data = np.mean(isps_data[:,mask==1,:], axis=1)\n",
    "        if os.path.isdir(outprefix):\n",
    "            mean_file_name = os.path.join(outprefix, 'mean_isps_data.npy')\n",
    "        else:\n",
    "            mean_file_name = outprefix + 'mean_isps_data.npy'\n",
    "        \n",
    "        np.save(mean_file_name, mean_isps_data.T)\n",
    "    \n",
    "        return(mean_isps_data, isps_data)\n",
    "    else:\n",
    "        return(isps_data)\n",
    "    \n",
    "    \n",
    "def intersubject_distance(data, outfile_prefix):\n",
    "    \"\"\"\n",
    "    Compute static pairwise intersubject similarity\n",
    "    \n",
    "    Parameters\n",
    "    ----------\n",
    "    data: numpy array\n",
    "        1D array of subject data (i.e., each participant contributes exactly 1 measure)\n",
    "    outfilename: str\n",
    "        name to save distance data to\n",
    "    \n",
    "    Returns\n",
    "    -------\n",
    "    isdistances: numpy array\n",
    "        intersubject distances in the shape of Nsubjects x Nsubjects x Nmetrics\n",
    "    \"\"\"\n",
    "    subs = range(0,data.shape[0])\n",
    "\n",
    "\n",
    "    # NN\n",
    "    nn = np.zeros((data.shape[0],data.shape[0]))\n",
    "    combs = itertools.combinations(subs, 2)\n",
    "    for c in combs:\n",
    "        nn[c[0],c[1]] = np.max(data) - abs(data[c[0]] - data[c[1]])\n",
    "        nn[c[1],c[0]] = np.max(data) - abs(data[c[0]] - data[c[1]])\n",
    "    np.save(outfile_prefix + '_NN.npy', nn)\n",
    "\n",
    "    # AnnaK mean\n",
    "    annakmean = np.zeros((data.shape[0],data.shape[0]))\n",
    "    combs = itertools.combinations(subs, 2)\n",
    "    for c in combs:\n",
    "        annakmean[c[0],c[1]] = (data[c[0]] + data[c[1]]) / 2\n",
    "        annakmean[c[1],c[0]] = (data[c[0]] + data[c[1]]) / 2\n",
    "    np.save(outfile_prefix + '_annakmean.npy', annakmean)\n",
    "    \n",
    "    # AnnaK max min mean\n",
    "    AnnaKmaxminmean = np.zeros((data.shape[0],data.shape[0]))\n",
    "    combs = itertools.combinations(subs, 2)\n",
    "    for c in combs:\n",
    "        AnnaKmaxminmean[c[0],c[1]] = np.max(data) - ((data[c[0]] + data[c[1]]) / 2)\n",
    "        AnnaKmaxminmean[c[1],c[0]] = np.max(data) - ((data[c[0]] + data[c[1]]) / 2)\n",
    "    np.save(outfile_prefix + '_annakmaxminmean.npy', AnnaKmaxminmean)\n",
    "\n",
    "    # AnnaK min\n",
    "    annakmin = np.zeros((data.shape[0],data.shape[0]))\n",
    "    combs = itertools.combinations(subs, 2)\n",
    "    for c in combs:\n",
    "        annakmin[c[0],c[1]] = min([data[c[0]],data[c[1]]])\n",
    "        annakmin[c[1],c[0]] = min([data[c[0]],data[c[1]]])\n",
    "    np.save(outfile_prefix + '_annakmin.npy', annakmin)\n",
    "\n",
    "    # AnnaK max minus min\n",
    "    annakmaxminmax = np.zeros((data.shape[0],data.shape[0]))\n",
    "    combs = itertools.combinations(subs, 2)\n",
    "    for c in combs:\n",
    "        annakmaxminmax[c[0],c[1]] =np.max(data) -  max([data[c[0]],data[c[1]]])\n",
    "        annakmaxminmax[c[1],c[0]] = np.max(data) - max([data[c[0]],data[c[1]]])\n",
    "    np.save(outfile_prefix + '_annakmaxminmax.npy', annakmaxminmax)\n",
    "        \n",
    "    # AnnaK absmean\n",
    "    annakabsmean = np.zeros((data.shape[0],data.shape[0]))\n",
    "    combs = itertools.combinations(subs, 2)\n",
    "    for c in combs:\n",
    "        annakabsmean[c[0],c[1]] = abs(data[c[0]] - data[c[1]]) * ((data[c[0]] + data[c[1]]) / 2)\n",
    "        annakabsmean[c[1],c[0]] = abs(data[c[0]] - data[c[1]]) * ((data[c[0]] + data[c[1]]) / 2)\n",
    "    np.save(outfile_prefix + '_annakabsmean.npy', annakabsmean)\n",
    "    \n",
    "    isdistances = {'NN': nn, \n",
    "                   'AnnaKmean': annakmean, \n",
    "                   'AnnaKmin': annakmin, \n",
    "                   'AnnaKabsmean': annakabsmean, \n",
    "                   'AnnaKmaxminmean': AnnaKmaxminmean, \n",
    "                   'AnnaKmaxminmax': annakmaxminmax}\n",
    "    return(isdistances)"
   ]
  },
  {
   "cell_type": "markdown",
   "id": "39a957b0-a9ee-4ec1-87f3-81af138c6008",
   "metadata": {
    "tags": []
   },
   "source": [
    "## analysis"
   ]
  },
  {
   "cell_type": "code",
   "execution_count": 18,
   "id": "8b73ca36-9bf1-4cd8-b827-1303d321d990",
   "metadata": {},
   "outputs": [],
   "source": [
    "def synchrony_discrep_fdr_netlevel(disc_mean_sim, disc_null, rep_mean_sim, outprefix, video_dur, alpha=0.05, \n",
    "                                   TR=TR, parcel_labels=parcel_labels, atlas_file=atlas_file):\n",
    "    # assign thresholds\n",
    "    bon_alpha = np.sqrt(0.05/disc_mean_sim.shape[1])\n",
    "\n",
    "    n = int(round((len(disc_null)+1)*bon_alpha,0))\n",
    "    discbonmin = disc_null[len(disc_null)-n]\n",
    "    n = int(round((len(rep_null)+1)*bon_alpha,0))\n",
    "    repbonmin = rep_null[len(rep_null)-n]\n",
    "    if discbonmin < np.percentile(disc_mean_sim, 1-alpha):\n",
    "        discbonmin = np.percentile(disc_mean_sim, 1-alpha)\n",
    "        repbonmin = np.percentile(rep_mean_sim, 1-alpha)\n",
    "    print(\"Disc sig threshold: {0}\".format(discbonmin))\n",
    "    print(\"Rep sig threshold: {0}\".format(repbonmin))\n",
    "\n",
    "    # find sig rs that replicate\n",
    "    disc_sig = (disc_mean_sim > discbonmin).astype(int)\n",
    "    rep_sig = (rep_mean_sim > repbonmin).astype(int)\n",
    "\n",
    "    sigrs = np.zeros(disc_sig.shape).astype(int)\n",
    "    sigrs[(disc_sig==1) & (rep_sig==1)] = 1\n",
    "    \n",
    "    # find parcels with at least 5 consecutive seconds of sig synchrony\n",
    "    sig_parcels = np.zeros(sigrs.shape[1]).astype(int)\n",
    "    sigrs_df = pd.DataFrame(sigrs, columns=parcel_labels)\n",
    "    sigrs_df['time'] = range(0, len(sigrs_df))\n",
    "    for i, a in enumerate(parcel_labels):\n",
    "        sigrs_df['segment'] = (sigrs_df[a].diff(1) != 0).astype(int).cumsum()\n",
    "        dur = pd.DataFrame({'dur': sigrs_df.groupby('segment').time.last() - sigrs_df.groupby('segment').time.first(),\n",
    "                            'value': sigrs_df.groupby('segment')[a].mean()}).reset_index(drop=True)\n",
    "        dur = dur.loc[dur['value']==1]\n",
    "        if dur['dur'].max() > 6:\n",
    "            sig_parcels[i] = 1\n",
    "\n",
    "    # average synchrony within networks and plot\n",
    "    masked_disc = disc_mean_sim\n",
    "    masked_disc[:,sig_parcels==0]=np.nan\n",
    "    disc_sync_df = pd.DataFrame(disc_mean_sim, columns=network_labels)\n",
    "    disc_sync_df = disc_sync_df.groupby(by=network_labels, axis=1).mean().dropna(axis=1)\n",
    "\n",
    "    masked_rep = rep_mean_sim\n",
    "    masked_rep[:,sig_parcels==0]=np.nan\n",
    "    rep_sync_df = pd.DataFrame(rep_mean_sim, columns=network_labels)\n",
    "    rep_sync_df = rep_sync_df.groupby(by=network_labels, axis=1).mean().dropna(axis=1)\n",
    "\n",
    "    # make figs for sig parcels sorted by network/region group\n",
    "    color = (142/255, 50/255, 209/255, 1)\n",
    "\n",
    "    ax1 = nib.load(atlas_file).header.get_axis(1)\n",
    "    data = nib.load(atlas_file).get_fdata()\n",
    "    ax0 = nib.load(atlas_file).header.get_axis(0)\n",
    "    newmap=dict()\n",
    "    newmap[0] = ax0[0][1][0]\n",
    "    for net in disc_sync_df:\n",
    "        parcels_keep = parcel_labels[(network_labels==net) & (sig_parcels==1)]\n",
    "        for a in range(1,len(parcel_labels) +1):\n",
    "            if parcel_labels[a-1] in parcels_keep:\n",
    "                newmap[a] = (parcel_labels[a-1], color)\n",
    "            else:\n",
    "                newmap[a] = (parcel_labels[a-1], (1,1,1,0))\n",
    "        ax0.label[0] = newmap\n",
    "        img = nib.cifti2.cifti2.Cifti2Image(data, (ax0, ax1))\n",
    "        nib.save(img, outprefix + 'sig_averaged_parcels_{0}.dlabel.nii'.format(net))\n",
    "        \n",
    "    # Plot and analysis replicating peaks\n",
    "    times = np.arange(0, video_dur, TR)\n",
    "\n",
    "    results = dict()\n",
    "\n",
    "    ### Make plots ###\n",
    "    for net in disc_sync_df.columns:\n",
    "        fig, ax = plt.subplots(2,1,figsize=(12,6), sharex=True, sharey=True)\n",
    "        # plot discovery\n",
    "        ax[0].plot(times, disc_sync_df[net], color='k')\n",
    "        dcpeaks, dcproperties = scs.find_peaks(disc_sync_df[net], width=5, height=discbonmin)\n",
    "        for i_c, c in enumerate(dcproperties['prominences']):\n",
    "            ax[0].axvspan(dcproperties['left_ips'][i_c]*TR, dcproperties['right_ips'][i_c]*TR,\n",
    "                        color='#BAB3BF', alpha=0.9)\n",
    "        ax[0].set_xlim([0,video_dur])\n",
    "        ax[0].set_title(net + ': Discovery', weight='bold')\n",
    "        ax[0].set_ylabel('Synchrony')\n",
    "\n",
    "        # plot replication\n",
    "        ax[1].plot(times, rep_sync_df[net], color='k')\n",
    "        rcpeaks, rcproperties = scs.find_peaks(rep_sync_df[net], width=5, height=repbonmin)\n",
    "        for i_c, c in enumerate(rcproperties['prominences']):\n",
    "            ax[1].axvspan(rcproperties['left_ips'][i_c]*TR, rcproperties['right_ips'][i_c]*TR,\n",
    "                        color='#BAB3BF', alpha=0.9)\n",
    "        ax[1].set_xlim([0,video_dur])\n",
    "        ax[1].set_title(net + ': Replication', weight='bold')\n",
    "        ax[1].set_ylabel('Synchrony')\n",
    "        ax[1].set_xlabel('Time (s)')\n",
    "        plt.tight_layout()\n",
    "        #plt.show()\n",
    "        plt.savefig(outprefix + 'peak_similarity_{0}.svg'.format(net))\n",
    "        plt.close()\n",
    "\n",
    "        # save results\n",
    "        dcproperties = {k:v.tolist() for k,v in dcproperties.items()}\n",
    "        rcproperties = {k:v.tolist() for k,v in rcproperties.items()}\n",
    "        if (len(rcproperties['left_ips'])>0) & (len(dcproperties['left_ips'])>0):\n",
    "            results[net] = {'Discovery': {'corr': dcproperties},\n",
    "                               'Replication': {'corr': rcproperties}}\n",
    "\n",
    "\n",
    "    ### Characterize differences in ratings for high versus low similarity points in the video ###\n",
    "\n",
    "    # load ratings and shift forward 6 TRs (4.8 seconds)\n",
    "    ratings = pd.read_csv(ratings_file, index_col=0)\n",
    "    ratings = ratings.iloc[0:int(video_dur/TR),:]\n",
    "    ratings.loc[:,ratings.columns] = MinMaxScaler().fit_transform(ratings.to_numpy())\n",
    "    ratings.index = range(6,int(video_dur/TR)+6)\n",
    "    ratings = pd.concat([ratings, pd.DataFrame(np.nan, index=np.arange(0,6,1), columns=ratings.columns)])\n",
    "    ratings = ratings.sort_index()\n",
    "    ratings = ratings.iloc[0:int(video_dur/TR),:]\n",
    "\n",
    "    # identify areas within and outside the peaks\n",
    "    for net in results.keys():\n",
    "        discmask = np.zeros(times.shape)\n",
    "        for i, c in enumerate(results[net]['Discovery']['corr']['peak_heights']):\n",
    "            start = round(results[net]['Discovery']['corr']['left_ips'][i])\n",
    "            end = round(results[net]['Discovery']['corr']['right_ips'][i])\n",
    "            discmask[start:end] = 1\n",
    "\n",
    "        repmask = np.zeros(times.shape)\n",
    "        for i, c in enumerate(results[net]['Replication']['corr']['peak_heights']):\n",
    "            start = round(results[net]['Replication']['corr']['left_ips'][i])\n",
    "            end = round(results[net]['Replication']['corr']['right_ips'][i])\n",
    "            repmask[start:end] = 1\n",
    "\n",
    "        tmask = np.zeros(times.shape).astype(int)\n",
    "        tmask[(discmask==1) & (repmask==1)] = 1\n",
    "\n",
    "        ratesigdiff = pd.Series(index=ratings.columns, name='sig', dtype=int)\n",
    "        ratemeans = dict()\n",
    "        ratestats = dict()\n",
    "        \n",
    "        if tmask.max()==1:\n",
    "            for measure in ratings.columns:\n",
    "                underpeak = ratings.loc[tmask==1, measure]\n",
    "                outofpeak = ratings.loc[tmask==0, measure]\n",
    "                underpeakmean = np.nanmean(underpeak)\n",
    "                outofpeakmean = np.nanmean(outofpeak)\n",
    "                rate_stat, rate_pval = scp.ttest_ind(underpeak, outofpeak, nan_policy='omit')\n",
    "                ratestats[measure] = {'tstat': rate_stat, 'pval': rate_pval}\n",
    "                ratesigdiff[measure] = rate_pval < alpha\n",
    "                ratemeans[measure] = {'underpeak': underpeakmean, 'outofpeak': outofpeakmean}\n",
    "\n",
    "            results[net]['RatingsAnalysis'] = {'MeanRatings': ratemeans, \n",
    "                                                  'Stats': ratestats}\n",
    "\n",
    "        # plot the differences\n",
    "        sigratingsnames = ratesigdiff[ratesigdiff==True].index.to_list()\n",
    "\n",
    "        if (len(sigratingsnames) > 0):\n",
    "            ratings_withpeakinfo = ratings\n",
    "            ratings_withpeakinfo['UnderPeak'] = tmask\n",
    "            temp = pd.melt(ratings_withpeakinfo, id_vars='UnderPeak', value_vars=sigratingsnames, value_name='Level',var_name='Rating')\n",
    "            plt.figure(figsize=(2+len(sigratingsnames),4))\n",
    "            sns.barplot(x='Rating', y='Level', hue='UnderPeak', data=temp, palette=['#FFFFFF','#BCB1C2'], ci=None, edgecolor='k')\n",
    "            sns.stripplot(x='Rating', y='Level', hue='UnderPeak', data=temp, palette=['k', 'k'], dodge=True, alpha=0.5)\n",
    "            plt.legend([],[], frameon=False)\n",
    "            plt.xticks(rotation=30, ha='right')\n",
    "            plt.ylim(0,1.1)\n",
    "            sns.despine()\n",
    "            plt.tight_layout()\n",
    "            plt.savefig(outprefix + 'peak_ratings_sigdiff_{0}.svg'.format(net))\n",
    "            #plt.show()\n",
    "            plt.close()\n",
    "            ratings = ratings.drop('UnderPeak', axis=1)\n",
    "\n",
    "        else:\n",
    "            print('no overlap between discovery and replication for {0}'.format(net))\n",
    "\n",
    "    #save results\n",
    "    with open(outprefix + 'full_results_corrp{0}_prom{1}_width{2}.json'.format(round(bon_alpha,3), round(discbonmin,2), 5), 'w') as fp:\n",
    "        json.dump(results, fp, indent=4)\n",
    "        \n",
    "    return(disc_sync_df, rep_sync_df)\n",
    "\n",
    "\n",
    "def find_peak_rating_diffs(peak_mask, ratings_file, video_dur, out_file, color='#BAB3BF', TR=TR, alpha=0.05, fdr=True, shift=6):\n",
    "    '''\n",
    "    Parameters\n",
    "    ----------\n",
    "    peak_mask: numpy ndarray\n",
    "        timeseries mask in the shape of Nsamples, with 1 indicating peak and 0 indiciating nonpeak.\n",
    "    ratings_file: filename\n",
    "        CSV file containing the ratings to use to chracterize peak versus non-peak\n",
    "    video_dur: float\n",
    "        duration in seconds of the movie\n",
    "    out_file: string\n",
    "        Name to save the plot under\n",
    "    TR = float\n",
    "        Repetition Time in seconds\n",
    "    alpha: float\n",
    "        p-value to determine significance for t-tests (peak versus nonpeak)\n",
    "    shift: int\n",
    "        Number of samples to shift the ratings over to account for the delayed hemodynamic response\n",
    "        \n",
    "    Returns\n",
    "    -------\n",
    "    results: dict\n",
    "        dictionary with full t-test results across all ratings\n",
    "    \n",
    "    '''\n",
    "    \n",
    "    results={'MeanRatings':dict(), 'Stats':dict(), 'pvals': dict()}\n",
    "\n",
    "    ratings = pd.read_csv(ratings_file, index_col=0)\n",
    "    ratings = ratings.iloc[0:int(video_dur/TR),:]\n",
    "    ratings.loc[:,ratings.columns] = MinMaxScaler().fit_transform(ratings.to_numpy())\n",
    "    ratings.index = range(6,int(video_dur/TR)+6)\n",
    "    ratings = pd.concat([ratings, pd.DataFrame(np.nan, index=np.arange(0,6,1), columns=ratings.columns)])\n",
    "    ratings = ratings.sort_index()\n",
    "    ratings = ratings.iloc[0:int(video_dur/TR),:]\n",
    "\n",
    "    for measure in ratings.columns:\n",
    "        underpeak = ratings.loc[peak_mask==1, measure]\n",
    "        outofpeak = ratings.loc[peak_mask==0, measure]\n",
    "        underpeakmean = np.nanmean(underpeak)\n",
    "        outofpeakmean = np.nanmean(outofpeak)\n",
    "        rate_stat, rate_pval = scp.ttest_ind(underpeak, outofpeak, nan_policy='omit')\n",
    "        results['Stats'][measure] = {'tstat': rate_stat, 'pval': rate_pval}\n",
    "        results['pvals'][measure] = rate_pval\n",
    "        results['MeanRatings'][measure] = {'underpeak': underpeakmean, 'outofpeak': outofpeakmean}\n",
    "\n",
    "    # plot the differences\n",
    "    if not fdr:\n",
    "        sigratingsnames = [k for (k, v) in results['pvals'].items() if v<alpha]\n",
    "    else: \n",
    "        from statsmodels.stats.multitest import multipletests\n",
    "        pvals = list(results['pvals'].values())\n",
    "        meas_names = list(results['pvals'].keys())\n",
    "        sig, q, _, _ = multipletests(pvals, alpha, method='fdr_bh')\n",
    "        sigratingsnames = [m for i,m in enumerate(meas_names) if q[i]<alpha]\n",
    "\n",
    "    if (len(sigratingsnames) > 0):\n",
    "        ratings_withpeakinfo = ratings\n",
    "        ratings_withpeakinfo['UnderPeak'] = peak_mask\n",
    "        temp = pd.melt(ratings_withpeakinfo, id_vars='UnderPeak', value_vars=sigratingsnames, value_name='Level',var_name='Rating')\n",
    "        plt.figure(figsize=(2+len(sigratingsnames),4))\n",
    "        sns.barplot(x='Rating', y='Level', hue='UnderPeak', data=temp, palette=['#FFFFFF', color], ci=None, edgecolor='k')\n",
    "        sns.stripplot(x='Rating', y='Level', hue='UnderPeak', data=temp, palette=['k', 'k'], dodge=True, alpha=0.5)\n",
    "        plt.legend([],[], frameon=False)\n",
    "        plt.ylim(0,1.1)\n",
    "        plt.xticks(rotation=30, ha='right')\n",
    "        sns.despine()\n",
    "        plt.tight_layout()\n",
    "        plt.savefig(out_file)\n",
    "        #plt.show()\n",
    "        plt.close()\n",
    "        ratings = ratings.drop('UnderPeak', axis=1)\n",
    "    else:\n",
    "        print('No differences between peak and nonpeak ratings')\n",
    "        \n",
    "    return(results)\n",
    "\n",
    "\n",
    "def match_peak_to_clips(peaktimes, shift, video_file, outfolder, ratings_file, bool_list=None, dim_list=None):\n",
    "    '''\n",
    "    \n",
    "    Parameters\n",
    "    ----------\n",
    "    peaktimes: DataFrame\n",
    "        DataFrame containing and index of unique values (will be how clips are named) and a 'start' and 'end' column \n",
    "        with times in seconds.\n",
    "    shift: float\n",
    "        Time in seconds to shift the peak onset/offset by (is subtracted from each)\n",
    "    video_file: str\n",
    "        the moviepy compatible video file to pull clips from\n",
    "    outfolder: str\n",
    "        the folder path to save the clips under\n",
    "    ratings_file: str\n",
    "        CSV containing a pandas dataframe with an index of time in seconds and columns of video features to plot\n",
    "    '''\n",
    "    \n",
    "    import moviepy.video.io.ffmpeg_tools as mpff\n",
    "    from sklearn.preprocessing import MinMaxScaler\n",
    "    features = pd.read_csv(ratings_file, index_col=0)\n",
    "    features.loc[:,:] = MinMaxScaler().fit_transform(features.to_numpy())\n",
    "\n",
    "    for clipnum in peaktimes.index:\n",
    "        outfile = os.path.join(outfolder, 'clip{0}.mp4'.format(clipnum))\n",
    "        start = peaktimes.loc[clipnum,'start'] - shift - 4\n",
    "        end = peaktimes.loc[clipnum,'end'] - shift + 4\n",
    "        if start<0:\n",
    "            start=0\n",
    "        if end>0:\n",
    "            mpff.ffmpeg_extract_subclip(video_file, start, end, outfile)\n",
    "        if not bool_list and not dim_list:\n",
    "            fig, ax = plt.subplots(figsize=(6,4))\n",
    "            features.loc[start:end,:].plot(kind='line', ax=ax)\n",
    "            plt.tight_layout()\n",
    "            sns.despine()\n",
    "            plt.savefig(os.path.join(outfolder, 'clip{0}.svg'.format(clipnum)))\n",
    "            plt.close()\n",
    "        else:\n",
    "            try:\n",
    "                fig, ax = plt.subplots(figsize=(8,1.5*len(bool_list)))\n",
    "                ax = features.loc[start:end,bool_list].plot(subplots=True, kind='area', ax=ax, xlim=(start,end), sharex=True, sharey=True)\n",
    "                for a in range(0, len(bool_list)):\n",
    "                    ax[a].axvline(x=peaktimes.loc[clipnum,'start'] - shift, color='k', linestyle='-')\n",
    "                    ax[a].axvline(x=peaktimes.loc[clipnum,'end'] - shift, color='k', linestyle='-')\n",
    "                sns.despine()\n",
    "                plt.tight_layout()\n",
    "                plt.savefig(os.path.join(outfolder, 'clip{0}_boolvarsleg.svg'.format(clipnum)))\n",
    "                plt.close()\n",
    "                fig, ax = plt.subplots(figsize=(8,1.5*len(bool_list)))\n",
    "                ax = features.loc[start:end,bool_list].plot(subplots=True, kind='area', ax=ax, legend=False, xlim=(start,end), sharex=True, sharey=True)\n",
    "                for a in range(0, len(bool_list)):\n",
    "                    ax[a].axvline(x=peaktimes.loc[clipnum,'start'] - shift, color='k', linestyle='-')\n",
    "                    ax[a].axvline(x=peaktimes.loc[clipnum,'end'] - shift, color='k', linestyle='-')\n",
    "                sns.despine()\n",
    "                plt.tight_layout()\n",
    "                plt.savefig(os.path.join(outfolder, 'clip{0}_boolvars_noleg.svg'.format(clipnum)))\n",
    "                plt.close()\n",
    "            except:\n",
    "                pass\n",
    "            try:\n",
    "                fig, ax = plt.subplots(figsize=(6,1.5*len(dim_list)))\n",
    "                ax = features.loc[start:end,dim_list].plot(subplots=True, ax=ax, xlim=(start,end), sharex=True)\n",
    "                for a in range(0, len(dim_list)):\n",
    "                    ax[a].axvline(x=peaktimes.loc[clipnum,'start'] - shift, color='k', linestyle='-')\n",
    "                    ax[a].axvline(x=peaktimes.loc[clipnum,'end'] - shift, color='k', linestyle='-')\n",
    "                sns.despine()\n",
    "                plt.tight_layout()\n",
    "                plt.savefig(os.path.join(outfolder, 'clip{0}_dimvarsleg.svg'.format(clipnum)))\n",
    "                plt.close()\n",
    "                fig, ax = plt.subplots(figsize=(6,1.5*len(dim_list)))\n",
    "                ax = features.loc[start:end,dim_list].plot(subplots=True, ax=ax, legend=False, xlim=(start,end), sharex=True)\n",
    "                for a in range(0, len(dim_list)):\n",
    "                    ax[a].axvline(x=peaktimes.loc[clipnum,'start'] - shift, color='k', linestyle='-')\n",
    "                    ax[a].axvline(x=peaktimes.loc[clipnum,'end'] - shift, color='k', linestyle='-')\n",
    "                sns.despine()\n",
    "                plt.tight_layout()\n",
    "                plt.savefig(os.path.join(outfolder, 'clip{0}_dimvars_nleg.svg'.format(clipnum)))\n",
    "                plt.close()\n",
    "            except:\n",
    "                pass\n",
    "            \n",
    "            \n",
    "def plot_network_activation(ts_data, nois, network_labels, time, groups, group_labels, outdir):\n",
    "    \n",
    "    colors = ['b','k','r','g','y']\n",
    "    # convert to percent signal change\n",
    "    ts_psc_data = (ts_data - ts_data.min(axis=0, keepdims=True)) / (ts_data.max(axis=0, keepdims=True) - ts_data.min(axis=0, keepdims=True))\n",
    "    mean_sig = np.mean(ts_psc_data, axis=0, keepdims=True)\n",
    "    ts_psc_data = ((ts_psc_data-mean_sig)/mean_sig)*100\n",
    "\n",
    "    # average across network/region\n",
    "    ts_psc_net_data = np.zeros((ts_psc_data.shape[0], len(nois), ts_psc_data.shape[2]))\n",
    "    for i, n in enumerate(nois):\n",
    "        ts_psc_net_data[:,i,:] = np.mean(ts_psc_data[:,network_labels==n,:], axis=1)\n",
    "\n",
    "    # plot group level traces\n",
    "    fig, ax = plt.subplots(len(nois),1,figsize=(12,2*len(nois)), sharex=True)\n",
    "    for i, g in enumerate(groups):\n",
    "        mean_sig = np.mean(ts_psc_net_data[:,:,group_labels==g], axis=2)\n",
    "        for j, net in enumerate(nois):  \n",
    "            ax[j].plot(time, mean_sig[:,j], color=colors[i], label=g)\n",
    "            ax[j].set_xlim((0,time[-1]))\n",
    "            ax[j].set_title(net)\n",
    "\n",
    "    sns.despine()\n",
    "    plt.tight_layout()\n",
    "    plt.savefig(os.path.join(outdir, 'network_activation_noleg.svg'))\n",
    "    plt.legend()\n",
    "    plt.savefig(os.path.join(outdir, 'network_activation_leg.svg'))\n",
    "    plt.close()"
   ]
  },
  {
   "cell_type": "markdown",
   "id": "68c2fae9-097a-4e3a-ba35-0c2b9660f23c",
   "metadata": {},
   "source": [
    "# During which scenes is the full sample synchronized?"
   ]
  },
  {
   "cell_type": "markdown",
   "id": "dc992082-0c41-493b-bdd9-5a3a94a65905",
   "metadata": {
    "jp-MarkdownHeadingCollapsed": true,
    "tags": []
   },
   "source": [
    "## Compute intersubject phase synchrony and a null distribution"
   ]
  },
  {
   "cell_type": "code",
   "execution_count": null,
   "id": "d7bef44c-1046-411f-9aba-fc172209b4bb",
   "metadata": {},
   "outputs": [],
   "source": [
    "for movie in ['DM','TP']:\n",
    "    for sample in ['cbic','rubic']:\n",
    "        print(sample, movie)\n",
    "        # set up folder\n",
    "        out_folder = os.path.join(out_dir, 'fullsample', 'dynamic_{0}_movie{1}_mean'.format(sample, movie))\n",
    "        os.makedirs(out_folder, exist_ok=True)\n",
    "        \n",
    "        # compute mean timeseries similarity across sample\n",
    "        group_data_file = os.path.join(out_folder,'compiled_timeseries_data_{0}_movie{1}.npy'.format(sample, movie))\n",
    "        group_data = np.load(group_data_file)\n",
    "        print(group_data.shape)\n",
    "        mask = np.tri(group_data.shape[2], group_data.shape[2], -1, dtype=int)\n",
    "        isps_data = np.memmap(os.path.join(out_dir, 'maturity','dynamic_{0}_movie{1}_age'.format(sample, movie), \n",
    "                                           'isps_data.dat'), dtype=np.float32, mode='r', \n",
    "                              shape=(group_data.shape[1],group_data.shape[2],group_data.shape[2],group_data.shape[0]))\n",
    "        isps_data = np.mean(isps_data[:,mask==1,:], axis=1).T\n",
    "        ax0 = nib.cifti2.cifti2_axes.SeriesAxis(0,0.8,isps_data.shape[0], unit='second')\n",
    "        img = nib.cifti2.cifti2.Cifti2Image(isps_data, (ax0, ax1))\n",
    "        nib.save(img, os.path.join(out_folder, 'mean_dynamic_synchrony.ptseries.nii'))\n",
    "\n",
    "        # make null distribution\n",
    "        orig_shape = group_data.shape\n",
    "        group_data = group_data.flatten()\n",
    "        np.random.shuffle(group_data)\n",
    "        group_data = group_data.reshape(orig_shape)\n",
    "        phase_outfile = os.path.join(out_folder, 'permuted_phase_data_{0}_movie{1}.npy'.format(sample, movie))\n",
    "        if os.path.isfile(phase_outfile):\n",
    "            phase_data = np.load(phase_outfile)\n",
    "        else:\n",
    "            phase_data = compute_group_phase(group_data, phase_outfile)\n",
    "        orig_shape = phase_data.shape\n",
    "        outprefix = os.path.join(out_folder, 'permuted_sigonly_')\n",
    "        _ , null_isps_data = compute_isps(phase_data, outprefix)\n",
    "        null_isps_data = np.mean(null_isps_data[:,mask==1,:], axis=1)\n",
    "        null_dist_file = os.path.join(out_folder, 'perm_sigonly_null_distribution.npy')\n",
    "        np.save(null_dist_file, null_isps_data.flatten())"
   ]
  },
  {
   "cell_type": "markdown",
   "id": "6ede0e0b-7488-4e7b-bcca-0f978ab8eec3",
   "metadata": {},
   "source": [
    "## Find the peaks in synchrony"
   ]
  },
  {
   "cell_type": "code",
   "execution_count": 19,
   "id": "6f97e820-83f7-41ce-be56-c79bcae9f88c",
   "metadata": {},
   "outputs": [
    {
     "name": "stdout",
     "output_type": "stream",
     "text": [
      "TP\n",
      "Disc sig threshold: 0.36739611625671387\n",
      "Rep sig threshold: 0.368056982755661\n",
      "no overlap between discovery and replication for Caudate\n",
      "DM\n",
      "Disc sig threshold: 0.36800816655158997\n",
      "Rep sig threshold: 0.3687399923801422\n",
      "no overlap between discovery and replication for Caudate\n"
     ]
    }
   ],
   "source": [
    "for movie in ['TP','DM']:\n",
    "    print(movie)\n",
    "    if movie=='TP':\n",
    "        video_dur = 200\n",
    "    else:\n",
    "        video_dur = 600\n",
    "    ratings_file = '/Users/catcamacho/Library/CloudStorage/Box-Box/CCP/HBN_study/HBN_video_coding/processing/v1/summary/{0}_summary_codes_intuitivenames.csv'.format(movie)\n",
    "    out_folder = os.path.join(out_dir, 'fullsample','dynamic_movie{0}_mean'.format(movie))\n",
    "    os.makedirs(out_folder, exist_ok=True)\n",
    "\n",
    "    # load discovery data\n",
    "    disc_rho_file = os.path.join(out_dir, 'fullsample', 'dynamic_rubic_movie{0}_mean'.format(movie), 'mean_dynamic_synchrony.ptseries.nii')\n",
    "    disc_null_file = os.path.join(out_dir, 'fullsample', 'dynamic_rubic_movie{0}_mean'.format(movie), 'perm_sigonly_null_distribution.npy')\n",
    "    disc_mean_sim = nib.load(disc_rho_file).get_fdata()\n",
    "    disc_null = np.sort(np.load(disc_null_file))\n",
    "\n",
    "    # load replication data\n",
    "    rep_rho_file = os.path.join(out_dir, 'fullsample', 'dynamic_cbic_movie{0}_mean'.format(movie), 'mean_dynamic_synchrony.ptseries.nii')\n",
    "    rep_null_file = os.path.join(out_dir, 'fullsample', 'dynamic_cbic_movie{0}_mean'.format(movie), 'perm_sigonly_null_distribution.npy')\n",
    "    rep_mean_sim = nib.load(rep_rho_file).get_fdata()\n",
    "    rep_null = np.sort(np.load(rep_null_file))\n",
    "    \n",
    "    outprefix = os.path.join(out_folder, 'mean_bonncorr_')\n",
    "    disc_df, rep_df = synchrony_discrep_fdr_netlevel(disc_mean_sim, disc_null, rep_mean_sim, outprefix, video_dur, alpha=0.05, \n",
    "                                                     TR=TR, parcel_labels=parcel_labels, atlas_file=atlas_file)\n",
    "    disc_df.to_csv(os.path.join(out_folder, 'Discovery_mean_ISPS.csv'))\n",
    "    rep_df.to_csv(os.path.join(out_folder, 'Replication_mean_ISPS.csv'))"
   ]
  },
  {
   "cell_type": "markdown",
   "id": "d1a52494-73dd-4e46-8eb7-13e5dc70e56c",
   "metadata": {},
   "source": [
    "## Plot overall trends in synchrony"
   ]
  },
  {
   "cell_type": "code",
   "execution_count": null,
   "id": "0eedb022-c30f-4cc4-8395-b67fe19248c8",
   "metadata": {},
   "outputs": [],
   "source": [
    "for movie in ['DM','TP']:\n",
    "    nois = ['Visual', 'Auditory', 'DorsalAttn', 'VentralAttn', 'CinguloOperc', 'Default', 'FrontoParietal'] \n",
    "    out_folder = os.path.join(out_dir, 'fullsample','dynamic_movie{0}_mean'.format(movie))\n",
    "    disc_df = pd.read_csv(os.path.join(out_folder, 'Discovery_mean_ISPS.csv'), index_col=0)\n",
    "    rep_df = pd.read_csv(os.path.join(out_folder, 'Replication_mean_ISPS.csv'), index_col=0)\n",
    "    time = np.arange(0, len(disc_df)*0.8, 0.8)\n",
    "    disc_df.index=np.round(time,1)\n",
    "    rep_df.index=np.round(time,1)\n",
    "    disc_df = disc_df.loc[:,nois]\n",
    "    rep_df = rep_df.loc[:,nois]\n",
    "            \n",
    "    plt.figure(figsize=(12,10))\n",
    "    sns.heatmap(disc_df.corr(), center=0)\n",
    "    plt.xticks(rotation=30, ha='right')\n",
    "    plt.tight_layout()\n",
    "    plt.show()\n",
    "    plt.close()\n",
    "    plt.figure(figsize=(12,10))\n",
    "    sns.heatmap(rep_df.corr(),center=0)\n",
    "    plt.xticks(rotation=30, ha='right')\n",
    "    plt.tight_layout()\n",
    "    plt.show()\n",
    "    plt.close()\n",
    "    \n",
    "    fig, ax = plt.subplots(len(disc_df.columns),1, sharex=True, figsize=(12, 1.5*len(disc_df.columns)))\n",
    "    for i,net in enumerate(disc_df.columns):\n",
    "        ax[i].plot(time, disc_df[net], color='k')\n",
    "        ax[i].plot(time, rep_df[net], color='darkgray')\n",
    "        ax[i].set_title(net)\n",
    "        ax[i].set_xlim((0,time[-1]))\n",
    "    sns.despine()\n",
    "    plt.tight_layout()\n",
    "    plt.show()\n",
    "    plt.close()\n",
    "    \n",
    "    plt.figure(figsize=(12,4))\n",
    "    sns.heatmap(disc_df.T,center=0.3, vmin=0.3, vmax=0.45)\n",
    "    labels = [' ' for a in range(0, disc_df.shape[0])]\n",
    "    if movie=='TP':\n",
    "        x = [0, 100, 200]\n",
    "    if movie=='DM':\n",
    "        x = [0, 100, 200, 300, 400, 500, 600]   \n",
    "    plt.xticks(x, x)\n",
    "    plt.tight_layout()\n",
    "    plt.show()\n",
    "    plt.close()\n",
    "    plt.figure(figsize=(12,4))\n",
    "    sns.heatmap(rep_df.T,center=0.3, vmin=0.3, vmax=0.45)\n",
    "    if movie=='TP':\n",
    "        x = [0, 100, 200]\n",
    "    if movie=='DM':\n",
    "        x = [0, 100, 200, 300, 400, 500, 600]   \n",
    "    plt.xticks(x, x)\n",
    "    plt.tight_layout()\n",
    "    plt.show()\n",
    "    plt.close()\n",
    "    \n",
    "    disct = pd.melt(disc_df, value_vars = disc_df.columns, var_name='Network',value_name='Synchrony')\n",
    "    plt.figure(figsize=(8,5))\n",
    "    sns.violinplot(x='Network',y='Synchrony', data=disct)\n",
    "    plt.axhline(y=0.368, color='k',linestyle='--')\n",
    "    plt.xticks(rotation=30, ha='right')\n",
    "    plt.title('Discovery')\n",
    "    plt.ylim((0.35,0.5))\n",
    "    plt.tight_layout()\n",
    "    plt.show()\n",
    "    plt.close()\n",
    "    \n",
    "    rept = pd.melt(rep_df, value_vars = disc_df.columns, var_name='Network',value_name='Synchrony')\n",
    "    plt.figure(figsize=(8,5))\n",
    "    sns.violinplot(x='Network',y='Synchrony', data=rept)\n",
    "    plt.axhline(y=0.368, color='k',linestyle='--')\n",
    "    plt.xticks(rotation=30, ha='right')\n",
    "    plt.ylim((0.35,0.5))\n",
    "    plt.title('Replication')\n",
    "    plt.tight_layout()\n",
    "    plt.show()\n",
    "    plt.close()"
   ]
  },
  {
   "cell_type": "markdown",
   "id": "ff176944-4bc3-4a9c-b7f7-abd0debde88d",
   "metadata": {},
   "source": [
    "# When are the oldest children synchronized?"
   ]
  },
  {
   "cell_type": "markdown",
   "id": "679c39dd-3577-42cd-9b48-ab127af0f95f",
   "metadata": {},
   "source": [
    "## find synchrony peaks in oldest kids"
   ]
  },
  {
   "cell_type": "code",
   "execution_count": 6,
   "id": "d446a4e7-1ec3-4e8a-965e-5b27e568b3d1",
   "metadata": {
    "scrolled": true,
    "tags": []
   },
   "outputs": [
    {
     "name": "stdout",
     "output_type": "stream",
     "text": [
      "No differences between peak and nonpeak ratings\n",
      "Moviepy - Running:\n",
      ">>> \"+ \" \".join(cmd)\n",
      "Moviepy - Command successful\n"
     ]
    },
    {
     "name": "stderr",
     "output_type": "stream",
     "text": [
      "/Users/catcamacho/Library/Python/3.8/lib/python/site-packages/pandas/plotting/_matplotlib/__init__.py:71: UserWarning: To output multiple subplots, the figure containing the passed axes is being cleared\n",
      "  plot_obj.generate()\n",
      "/Users/catcamacho/Library/Python/3.8/lib/python/site-packages/pandas/plotting/_matplotlib/__init__.py:71: UserWarning: To output multiple subplots, the figure containing the passed axes is being cleared\n",
      "  plot_obj.generate()\n",
      "/Users/catcamacho/Library/Python/3.8/lib/python/site-packages/pandas/plotting/_matplotlib/__init__.py:71: UserWarning: To output multiple subplots, the figure containing the passed axes is being cleared\n",
      "  plot_obj.generate()\n",
      "/Users/catcamacho/Library/Python/3.8/lib/python/site-packages/pandas/plotting/_matplotlib/__init__.py:71: UserWarning: To output multiple subplots, the figure containing the passed axes is being cleared\n",
      "  plot_obj.generate()\n"
     ]
    },
    {
     "name": "stdout",
     "output_type": "stream",
     "text": [
      "Moviepy - Running:\n",
      ">>> \"+ \" \".join(cmd)\n",
      "Moviepy - Command successful\n"
     ]
    },
    {
     "name": "stderr",
     "output_type": "stream",
     "text": [
      "/Users/catcamacho/Library/Python/3.8/lib/python/site-packages/pandas/plotting/_matplotlib/__init__.py:71: UserWarning: To output multiple subplots, the figure containing the passed axes is being cleared\n",
      "  plot_obj.generate()\n",
      "/Users/catcamacho/Library/Python/3.8/lib/python/site-packages/pandas/plotting/_matplotlib/__init__.py:71: UserWarning: To output multiple subplots, the figure containing the passed axes is being cleared\n",
      "  plot_obj.generate()\n",
      "/Users/catcamacho/Library/Python/3.8/lib/python/site-packages/pandas/plotting/_matplotlib/__init__.py:71: UserWarning: To output multiple subplots, the figure containing the passed axes is being cleared\n",
      "  plot_obj.generate()\n",
      "/Users/catcamacho/Library/Python/3.8/lib/python/site-packages/pandas/plotting/_matplotlib/__init__.py:71: UserWarning: To output multiple subplots, the figure containing the passed axes is being cleared\n",
      "  plot_obj.generate()\n"
     ]
    },
    {
     "name": "stdout",
     "output_type": "stream",
     "text": [
      "Moviepy - Running:\n",
      ">>> \"+ \" \".join(cmd)\n",
      "Moviepy - Command successful\n"
     ]
    },
    {
     "name": "stderr",
     "output_type": "stream",
     "text": [
      "/Users/catcamacho/Library/Python/3.8/lib/python/site-packages/pandas/plotting/_matplotlib/__init__.py:71: UserWarning: To output multiple subplots, the figure containing the passed axes is being cleared\n",
      "  plot_obj.generate()\n",
      "/Users/catcamacho/Library/Python/3.8/lib/python/site-packages/pandas/plotting/_matplotlib/__init__.py:71: UserWarning: To output multiple subplots, the figure containing the passed axes is being cleared\n",
      "  plot_obj.generate()\n",
      "/Users/catcamacho/Library/Python/3.8/lib/python/site-packages/pandas/plotting/_matplotlib/__init__.py:71: UserWarning: To output multiple subplots, the figure containing the passed axes is being cleared\n",
      "  plot_obj.generate()\n",
      "/Users/catcamacho/Library/Python/3.8/lib/python/site-packages/pandas/plotting/_matplotlib/__init__.py:71: UserWarning: To output multiple subplots, the figure containing the passed axes is being cleared\n",
      "  plot_obj.generate()\n"
     ]
    },
    {
     "name": "stdout",
     "output_type": "stream",
     "text": [
      "Moviepy - Running:\n",
      ">>> \"+ \" \".join(cmd)\n",
      "Moviepy - Command successful\n"
     ]
    },
    {
     "name": "stderr",
     "output_type": "stream",
     "text": [
      "/Users/catcamacho/Library/Python/3.8/lib/python/site-packages/pandas/plotting/_matplotlib/__init__.py:71: UserWarning: To output multiple subplots, the figure containing the passed axes is being cleared\n",
      "  plot_obj.generate()\n",
      "/Users/catcamacho/Library/Python/3.8/lib/python/site-packages/pandas/plotting/_matplotlib/__init__.py:71: UserWarning: To output multiple subplots, the figure containing the passed axes is being cleared\n",
      "  plot_obj.generate()\n",
      "/Users/catcamacho/Library/Python/3.8/lib/python/site-packages/pandas/plotting/_matplotlib/__init__.py:71: UserWarning: To output multiple subplots, the figure containing the passed axes is being cleared\n",
      "  plot_obj.generate()\n",
      "/Users/catcamacho/Library/Python/3.8/lib/python/site-packages/pandas/plotting/_matplotlib/__init__.py:71: UserWarning: To output multiple subplots, the figure containing the passed axes is being cleared\n",
      "  plot_obj.generate()\n"
     ]
    },
    {
     "name": "stdout",
     "output_type": "stream",
     "text": [
      "Moviepy - Running:\n",
      ">>> \"+ \" \".join(cmd)\n",
      "Moviepy - Command successful\n"
     ]
    },
    {
     "name": "stderr",
     "output_type": "stream",
     "text": [
      "/Users/catcamacho/Library/Python/3.8/lib/python/site-packages/pandas/plotting/_matplotlib/__init__.py:71: UserWarning: To output multiple subplots, the figure containing the passed axes is being cleared\n",
      "  plot_obj.generate()\n",
      "/Users/catcamacho/Library/Python/3.8/lib/python/site-packages/pandas/plotting/_matplotlib/__init__.py:71: UserWarning: To output multiple subplots, the figure containing the passed axes is being cleared\n",
      "  plot_obj.generate()\n",
      "/Users/catcamacho/Library/Python/3.8/lib/python/site-packages/pandas/plotting/_matplotlib/__init__.py:71: UserWarning: To output multiple subplots, the figure containing the passed axes is being cleared\n",
      "  plot_obj.generate()\n",
      "/Users/catcamacho/Library/Python/3.8/lib/python/site-packages/pandas/plotting/_matplotlib/__init__.py:71: UserWarning: To output multiple subplots, the figure containing the passed axes is being cleared\n",
      "  plot_obj.generate()\n"
     ]
    },
    {
     "name": "stdout",
     "output_type": "stream",
     "text": [
      "Moviepy - Running:\n",
      ">>> \"+ \" \".join(cmd)\n",
      "Moviepy - Command successful\n"
     ]
    },
    {
     "name": "stderr",
     "output_type": "stream",
     "text": [
      "/Users/catcamacho/Library/Python/3.8/lib/python/site-packages/pandas/plotting/_matplotlib/__init__.py:71: UserWarning: To output multiple subplots, the figure containing the passed axes is being cleared\n",
      "  plot_obj.generate()\n",
      "/Users/catcamacho/Library/Python/3.8/lib/python/site-packages/pandas/plotting/_matplotlib/__init__.py:71: UserWarning: To output multiple subplots, the figure containing the passed axes is being cleared\n",
      "  plot_obj.generate()\n",
      "/Users/catcamacho/Library/Python/3.8/lib/python/site-packages/pandas/plotting/_matplotlib/__init__.py:71: UserWarning: To output multiple subplots, the figure containing the passed axes is being cleared\n",
      "  plot_obj.generate()\n",
      "/Users/catcamacho/Library/Python/3.8/lib/python/site-packages/pandas/plotting/_matplotlib/__init__.py:71: UserWarning: To output multiple subplots, the figure containing the passed axes is being cleared\n",
      "  plot_obj.generate()\n"
     ]
    },
    {
     "name": "stdout",
     "output_type": "stream",
     "text": [
      "Moviepy - Running:\n",
      ">>> \"+ \" \".join(cmd)\n",
      "Moviepy - Command successful\n"
     ]
    },
    {
     "name": "stderr",
     "output_type": "stream",
     "text": [
      "/Users/catcamacho/Library/Python/3.8/lib/python/site-packages/pandas/plotting/_matplotlib/__init__.py:71: UserWarning: To output multiple subplots, the figure containing the passed axes is being cleared\n",
      "  plot_obj.generate()\n",
      "/Users/catcamacho/Library/Python/3.8/lib/python/site-packages/pandas/plotting/_matplotlib/__init__.py:71: UserWarning: To output multiple subplots, the figure containing the passed axes is being cleared\n",
      "  plot_obj.generate()\n",
      "/Users/catcamacho/Library/Python/3.8/lib/python/site-packages/pandas/plotting/_matplotlib/__init__.py:71: UserWarning: To output multiple subplots, the figure containing the passed axes is being cleared\n",
      "  plot_obj.generate()\n",
      "/Users/catcamacho/Library/Python/3.8/lib/python/site-packages/pandas/plotting/_matplotlib/__init__.py:71: UserWarning: To output multiple subplots, the figure containing the passed axes is being cleared\n",
      "  plot_obj.generate()\n"
     ]
    },
    {
     "name": "stdout",
     "output_type": "stream",
     "text": [
      "Moviepy - Running:\n",
      ">>> \"+ \" \".join(cmd)\n",
      "Moviepy - Command successful\n"
     ]
    },
    {
     "name": "stderr",
     "output_type": "stream",
     "text": [
      "/Users/catcamacho/Library/Python/3.8/lib/python/site-packages/pandas/plotting/_matplotlib/__init__.py:71: UserWarning: To output multiple subplots, the figure containing the passed axes is being cleared\n",
      "  plot_obj.generate()\n",
      "/Users/catcamacho/Library/Python/3.8/lib/python/site-packages/pandas/plotting/_matplotlib/__init__.py:71: UserWarning: To output multiple subplots, the figure containing the passed axes is being cleared\n",
      "  plot_obj.generate()\n",
      "/Users/catcamacho/Library/Python/3.8/lib/python/site-packages/pandas/plotting/_matplotlib/__init__.py:71: UserWarning: To output multiple subplots, the figure containing the passed axes is being cleared\n",
      "  plot_obj.generate()\n",
      "/Users/catcamacho/Library/Python/3.8/lib/python/site-packages/pandas/plotting/_matplotlib/__init__.py:71: UserWarning: To output multiple subplots, the figure containing the passed axes is being cleared\n",
      "  plot_obj.generate()\n"
     ]
    },
    {
     "name": "stdout",
     "output_type": "stream",
     "text": [
      "Moviepy - Running:\n",
      ">>> \"+ \" \".join(cmd)\n",
      "Moviepy - Command successful\n"
     ]
    },
    {
     "name": "stderr",
     "output_type": "stream",
     "text": [
      "/Users/catcamacho/Library/Python/3.8/lib/python/site-packages/pandas/plotting/_matplotlib/__init__.py:71: UserWarning: To output multiple subplots, the figure containing the passed axes is being cleared\n",
      "  plot_obj.generate()\n",
      "/Users/catcamacho/Library/Python/3.8/lib/python/site-packages/pandas/plotting/_matplotlib/__init__.py:71: UserWarning: To output multiple subplots, the figure containing the passed axes is being cleared\n",
      "  plot_obj.generate()\n",
      "/Users/catcamacho/Library/Python/3.8/lib/python/site-packages/pandas/plotting/_matplotlib/__init__.py:71: UserWarning: To output multiple subplots, the figure containing the passed axes is being cleared\n",
      "  plot_obj.generate()\n",
      "/Users/catcamacho/Library/Python/3.8/lib/python/site-packages/pandas/plotting/_matplotlib/__init__.py:71: UserWarning: To output multiple subplots, the figure containing the passed axes is being cleared\n",
      "  plot_obj.generate()\n"
     ]
    },
    {
     "name": "stdout",
     "output_type": "stream",
     "text": [
      "Moviepy - Running:\n",
      ">>> \"+ \" \".join(cmd)\n",
      "Moviepy - Command successful\n"
     ]
    },
    {
     "name": "stderr",
     "output_type": "stream",
     "text": [
      "/Users/catcamacho/Library/Python/3.8/lib/python/site-packages/pandas/plotting/_matplotlib/__init__.py:71: UserWarning: To output multiple subplots, the figure containing the passed axes is being cleared\n",
      "  plot_obj.generate()\n",
      "/Users/catcamacho/Library/Python/3.8/lib/python/site-packages/pandas/plotting/_matplotlib/__init__.py:71: UserWarning: To output multiple subplots, the figure containing the passed axes is being cleared\n",
      "  plot_obj.generate()\n",
      "/Users/catcamacho/Library/Python/3.8/lib/python/site-packages/pandas/plotting/_matplotlib/__init__.py:71: UserWarning: To output multiple subplots, the figure containing the passed axes is being cleared\n",
      "  plot_obj.generate()\n",
      "/Users/catcamacho/Library/Python/3.8/lib/python/site-packages/pandas/plotting/_matplotlib/__init__.py:71: UserWarning: To output multiple subplots, the figure containing the passed axes is being cleared\n",
      "  plot_obj.generate()\n"
     ]
    },
    {
     "name": "stdout",
     "output_type": "stream",
     "text": [
      "Moviepy - Running:\n",
      ">>> \"+ \" \".join(cmd)\n",
      "Moviepy - Command successful\n"
     ]
    },
    {
     "name": "stderr",
     "output_type": "stream",
     "text": [
      "/Users/catcamacho/Library/Python/3.8/lib/python/site-packages/pandas/plotting/_matplotlib/__init__.py:71: UserWarning: To output multiple subplots, the figure containing the passed axes is being cleared\n",
      "  plot_obj.generate()\n",
      "/Users/catcamacho/Library/Python/3.8/lib/python/site-packages/pandas/plotting/_matplotlib/__init__.py:71: UserWarning: To output multiple subplots, the figure containing the passed axes is being cleared\n",
      "  plot_obj.generate()\n",
      "/Users/catcamacho/Library/Python/3.8/lib/python/site-packages/pandas/plotting/_matplotlib/__init__.py:71: UserWarning: To output multiple subplots, the figure containing the passed axes is being cleared\n",
      "  plot_obj.generate()\n",
      "/Users/catcamacho/Library/Python/3.8/lib/python/site-packages/pandas/plotting/_matplotlib/__init__.py:71: UserWarning: To output multiple subplots, the figure containing the passed axes is being cleared\n",
      "  plot_obj.generate()\n"
     ]
    },
    {
     "name": "stdout",
     "output_type": "stream",
     "text": [
      "Moviepy - Running:\n",
      ">>> \"+ \" \".join(cmd)\n",
      "Moviepy - Command successful\n"
     ]
    },
    {
     "name": "stderr",
     "output_type": "stream",
     "text": [
      "/Users/catcamacho/Library/Python/3.8/lib/python/site-packages/pandas/plotting/_matplotlib/__init__.py:71: UserWarning: To output multiple subplots, the figure containing the passed axes is being cleared\n",
      "  plot_obj.generate()\n",
      "/Users/catcamacho/Library/Python/3.8/lib/python/site-packages/pandas/plotting/_matplotlib/__init__.py:71: UserWarning: To output multiple subplots, the figure containing the passed axes is being cleared\n",
      "  plot_obj.generate()\n",
      "/Users/catcamacho/Library/Python/3.8/lib/python/site-packages/pandas/plotting/_matplotlib/__init__.py:71: UserWarning: To output multiple subplots, the figure containing the passed axes is being cleared\n",
      "  plot_obj.generate()\n",
      "/Users/catcamacho/Library/Python/3.8/lib/python/site-packages/pandas/plotting/_matplotlib/__init__.py:71: UserWarning: To output multiple subplots, the figure containing the passed axes is being cleared\n",
      "  plot_obj.generate()\n"
     ]
    },
    {
     "name": "stdout",
     "output_type": "stream",
     "text": [
      "Moviepy - Running:\n",
      ">>> \"+ \" \".join(cmd)\n",
      "Moviepy - Command successful\n"
     ]
    },
    {
     "name": "stderr",
     "output_type": "stream",
     "text": [
      "/Users/catcamacho/Library/Python/3.8/lib/python/site-packages/pandas/plotting/_matplotlib/__init__.py:71: UserWarning: To output multiple subplots, the figure containing the passed axes is being cleared\n",
      "  plot_obj.generate()\n",
      "/Users/catcamacho/Library/Python/3.8/lib/python/site-packages/pandas/plotting/_matplotlib/__init__.py:71: UserWarning: To output multiple subplots, the figure containing the passed axes is being cleared\n",
      "  plot_obj.generate()\n",
      "/Users/catcamacho/Library/Python/3.8/lib/python/site-packages/pandas/plotting/_matplotlib/__init__.py:71: UserWarning: To output multiple subplots, the figure containing the passed axes is being cleared\n",
      "  plot_obj.generate()\n",
      "/Users/catcamacho/Library/Python/3.8/lib/python/site-packages/pandas/plotting/_matplotlib/__init__.py:71: UserWarning: To output multiple subplots, the figure containing the passed axes is being cleared\n",
      "  plot_obj.generate()\n"
     ]
    },
    {
     "name": "stdout",
     "output_type": "stream",
     "text": [
      "Moviepy - Running:\n",
      ">>> \"+ \" \".join(cmd)\n",
      "Moviepy - Command successful\n"
     ]
    },
    {
     "name": "stderr",
     "output_type": "stream",
     "text": [
      "/Users/catcamacho/Library/Python/3.8/lib/python/site-packages/pandas/plotting/_matplotlib/__init__.py:71: UserWarning: To output multiple subplots, the figure containing the passed axes is being cleared\n",
      "  plot_obj.generate()\n",
      "/Users/catcamacho/Library/Python/3.8/lib/python/site-packages/pandas/plotting/_matplotlib/__init__.py:71: UserWarning: To output multiple subplots, the figure containing the passed axes is being cleared\n",
      "  plot_obj.generate()\n",
      "/Users/catcamacho/Library/Python/3.8/lib/python/site-packages/pandas/plotting/_matplotlib/__init__.py:71: UserWarning: To output multiple subplots, the figure containing the passed axes is being cleared\n",
      "  plot_obj.generate()\n",
      "/Users/catcamacho/Library/Python/3.8/lib/python/site-packages/pandas/plotting/_matplotlib/__init__.py:71: UserWarning: To output multiple subplots, the figure containing the passed axes is being cleared\n",
      "  plot_obj.generate()\n"
     ]
    },
    {
     "name": "stdout",
     "output_type": "stream",
     "text": [
      "Moviepy - Running:\n",
      ">>> \"+ \" \".join(cmd)\n",
      "Moviepy - Command successful\n"
     ]
    },
    {
     "name": "stderr",
     "output_type": "stream",
     "text": [
      "/Users/catcamacho/Library/Python/3.8/lib/python/site-packages/pandas/plotting/_matplotlib/__init__.py:71: UserWarning: To output multiple subplots, the figure containing the passed axes is being cleared\n",
      "  plot_obj.generate()\n",
      "/Users/catcamacho/Library/Python/3.8/lib/python/site-packages/pandas/plotting/_matplotlib/__init__.py:71: UserWarning: To output multiple subplots, the figure containing the passed axes is being cleared\n",
      "  plot_obj.generate()\n",
      "/Users/catcamacho/Library/Python/3.8/lib/python/site-packages/pandas/plotting/_matplotlib/__init__.py:71: UserWarning: To output multiple subplots, the figure containing the passed axes is being cleared\n",
      "  plot_obj.generate()\n",
      "/Users/catcamacho/Library/Python/3.8/lib/python/site-packages/pandas/plotting/_matplotlib/__init__.py:71: UserWarning: To output multiple subplots, the figure containing the passed axes is being cleared\n",
      "  plot_obj.generate()\n"
     ]
    },
    {
     "name": "stdout",
     "output_type": "stream",
     "text": [
      "Moviepy - Running:\n",
      ">>> \"+ \" \".join(cmd)\n",
      "Moviepy - Command successful\n"
     ]
    },
    {
     "name": "stderr",
     "output_type": "stream",
     "text": [
      "/Users/catcamacho/Library/Python/3.8/lib/python/site-packages/pandas/plotting/_matplotlib/__init__.py:71: UserWarning: To output multiple subplots, the figure containing the passed axes is being cleared\n",
      "  plot_obj.generate()\n",
      "/Users/catcamacho/Library/Python/3.8/lib/python/site-packages/pandas/plotting/_matplotlib/__init__.py:71: UserWarning: To output multiple subplots, the figure containing the passed axes is being cleared\n",
      "  plot_obj.generate()\n",
      "/Users/catcamacho/Library/Python/3.8/lib/python/site-packages/pandas/plotting/_matplotlib/__init__.py:71: UserWarning: To output multiple subplots, the figure containing the passed axes is being cleared\n",
      "  plot_obj.generate()\n",
      "/Users/catcamacho/Library/Python/3.8/lib/python/site-packages/pandas/plotting/_matplotlib/__init__.py:71: UserWarning: To output multiple subplots, the figure containing the passed axes is being cleared\n",
      "  plot_obj.generate()\n"
     ]
    },
    {
     "name": "stdout",
     "output_type": "stream",
     "text": [
      "Moviepy - Running:\n",
      ">>> \"+ \" \".join(cmd)\n",
      "Moviepy - Command successful\n"
     ]
    },
    {
     "name": "stderr",
     "output_type": "stream",
     "text": [
      "/Users/catcamacho/Library/Python/3.8/lib/python/site-packages/pandas/plotting/_matplotlib/__init__.py:71: UserWarning: To output multiple subplots, the figure containing the passed axes is being cleared\n",
      "  plot_obj.generate()\n",
      "/Users/catcamacho/Library/Python/3.8/lib/python/site-packages/pandas/plotting/_matplotlib/__init__.py:71: UserWarning: To output multiple subplots, the figure containing the passed axes is being cleared\n",
      "  plot_obj.generate()\n",
      "/Users/catcamacho/Library/Python/3.8/lib/python/site-packages/pandas/plotting/_matplotlib/__init__.py:71: UserWarning: To output multiple subplots, the figure containing the passed axes is being cleared\n",
      "  plot_obj.generate()\n",
      "/Users/catcamacho/Library/Python/3.8/lib/python/site-packages/pandas/plotting/_matplotlib/__init__.py:71: UserWarning: To output multiple subplots, the figure containing the passed axes is being cleared\n",
      "  plot_obj.generate()\n"
     ]
    },
    {
     "name": "stdout",
     "output_type": "stream",
     "text": [
      "Moviepy - Running:\n",
      ">>> \"+ \" \".join(cmd)\n",
      "Moviepy - Command successful\n"
     ]
    },
    {
     "name": "stderr",
     "output_type": "stream",
     "text": [
      "/Users/catcamacho/Library/Python/3.8/lib/python/site-packages/pandas/plotting/_matplotlib/__init__.py:71: UserWarning: To output multiple subplots, the figure containing the passed axes is being cleared\n",
      "  plot_obj.generate()\n",
      "/Users/catcamacho/Library/Python/3.8/lib/python/site-packages/pandas/plotting/_matplotlib/__init__.py:71: UserWarning: To output multiple subplots, the figure containing the passed axes is being cleared\n",
      "  plot_obj.generate()\n",
      "/Users/catcamacho/Library/Python/3.8/lib/python/site-packages/pandas/plotting/_matplotlib/__init__.py:71: UserWarning: To output multiple subplots, the figure containing the passed axes is being cleared\n",
      "  plot_obj.generate()\n",
      "/Users/catcamacho/Library/Python/3.8/lib/python/site-packages/pandas/plotting/_matplotlib/__init__.py:71: UserWarning: To output multiple subplots, the figure containing the passed axes is being cleared\n",
      "  plot_obj.generate()\n"
     ]
    },
    {
     "name": "stdout",
     "output_type": "stream",
     "text": [
      "Moviepy - Running:\n",
      ">>> \"+ \" \".join(cmd)\n",
      "Moviepy - Command successful\n"
     ]
    },
    {
     "name": "stderr",
     "output_type": "stream",
     "text": [
      "/Users/catcamacho/Library/Python/3.8/lib/python/site-packages/pandas/plotting/_matplotlib/__init__.py:71: UserWarning: To output multiple subplots, the figure containing the passed axes is being cleared\n",
      "  plot_obj.generate()\n",
      "/Users/catcamacho/Library/Python/3.8/lib/python/site-packages/pandas/plotting/_matplotlib/__init__.py:71: UserWarning: To output multiple subplots, the figure containing the passed axes is being cleared\n",
      "  plot_obj.generate()\n",
      "/Users/catcamacho/Library/Python/3.8/lib/python/site-packages/pandas/plotting/_matplotlib/__init__.py:71: UserWarning: To output multiple subplots, the figure containing the passed axes is being cleared\n",
      "  plot_obj.generate()\n",
      "/Users/catcamacho/Library/Python/3.8/lib/python/site-packages/pandas/plotting/_matplotlib/__init__.py:71: UserWarning: To output multiple subplots, the figure containing the passed axes is being cleared\n",
      "  plot_obj.generate()\n"
     ]
    },
    {
     "name": "stdout",
     "output_type": "stream",
     "text": [
      "Moviepy - Running:\n",
      ">>> \"+ \" \".join(cmd)\n",
      "Moviepy - Command successful\n"
     ]
    },
    {
     "name": "stderr",
     "output_type": "stream",
     "text": [
      "/Users/catcamacho/Library/Python/3.8/lib/python/site-packages/pandas/plotting/_matplotlib/__init__.py:71: UserWarning: To output multiple subplots, the figure containing the passed axes is being cleared\n",
      "  plot_obj.generate()\n",
      "/Users/catcamacho/Library/Python/3.8/lib/python/site-packages/pandas/plotting/_matplotlib/__init__.py:71: UserWarning: To output multiple subplots, the figure containing the passed axes is being cleared\n",
      "  plot_obj.generate()\n",
      "/Users/catcamacho/Library/Python/3.8/lib/python/site-packages/pandas/plotting/_matplotlib/__init__.py:71: UserWarning: To output multiple subplots, the figure containing the passed axes is being cleared\n",
      "  plot_obj.generate()\n",
      "/Users/catcamacho/Library/Python/3.8/lib/python/site-packages/pandas/plotting/_matplotlib/__init__.py:71: UserWarning: To output multiple subplots, the figure containing the passed axes is being cleared\n",
      "  plot_obj.generate()\n"
     ]
    },
    {
     "name": "stdout",
     "output_type": "stream",
     "text": [
      "Moviepy - Running:\n",
      ">>> \"+ \" \".join(cmd)\n",
      "Moviepy - Command successful\n"
     ]
    },
    {
     "name": "stderr",
     "output_type": "stream",
     "text": [
      "/Users/catcamacho/Library/Python/3.8/lib/python/site-packages/pandas/plotting/_matplotlib/__init__.py:71: UserWarning: To output multiple subplots, the figure containing the passed axes is being cleared\n",
      "  plot_obj.generate()\n",
      "/Users/catcamacho/Library/Python/3.8/lib/python/site-packages/pandas/plotting/_matplotlib/__init__.py:71: UserWarning: To output multiple subplots, the figure containing the passed axes is being cleared\n",
      "  plot_obj.generate()\n",
      "/Users/catcamacho/Library/Python/3.8/lib/python/site-packages/pandas/plotting/_matplotlib/__init__.py:71: UserWarning: To output multiple subplots, the figure containing the passed axes is being cleared\n",
      "  plot_obj.generate()\n",
      "/Users/catcamacho/Library/Python/3.8/lib/python/site-packages/pandas/plotting/_matplotlib/__init__.py:71: UserWarning: To output multiple subplots, the figure containing the passed axes is being cleared\n",
      "  plot_obj.generate()\n"
     ]
    },
    {
     "name": "stdout",
     "output_type": "stream",
     "text": [
      "Moviepy - Running:\n",
      ">>> \"+ \" \".join(cmd)\n",
      "Moviepy - Command successful\n"
     ]
    },
    {
     "name": "stderr",
     "output_type": "stream",
     "text": [
      "/Users/catcamacho/Library/Python/3.8/lib/python/site-packages/pandas/plotting/_matplotlib/__init__.py:71: UserWarning: To output multiple subplots, the figure containing the passed axes is being cleared\n",
      "  plot_obj.generate()\n",
      "/Users/catcamacho/Library/Python/3.8/lib/python/site-packages/pandas/plotting/_matplotlib/__init__.py:71: UserWarning: To output multiple subplots, the figure containing the passed axes is being cleared\n",
      "  plot_obj.generate()\n",
      "/Users/catcamacho/Library/Python/3.8/lib/python/site-packages/pandas/plotting/_matplotlib/__init__.py:71: UserWarning: To output multiple subplots, the figure containing the passed axes is being cleared\n",
      "  plot_obj.generate()\n",
      "/Users/catcamacho/Library/Python/3.8/lib/python/site-packages/pandas/plotting/_matplotlib/__init__.py:71: UserWarning: To output multiple subplots, the figure containing the passed axes is being cleared\n",
      "  plot_obj.generate()\n"
     ]
    },
    {
     "name": "stdout",
     "output_type": "stream",
     "text": [
      "Moviepy - Running:\n",
      ">>> \"+ \" \".join(cmd)\n",
      "Moviepy - Command successful\n"
     ]
    },
    {
     "name": "stderr",
     "output_type": "stream",
     "text": [
      "/Users/catcamacho/Library/Python/3.8/lib/python/site-packages/pandas/plotting/_matplotlib/__init__.py:71: UserWarning: To output multiple subplots, the figure containing the passed axes is being cleared\n",
      "  plot_obj.generate()\n",
      "/Users/catcamacho/Library/Python/3.8/lib/python/site-packages/pandas/plotting/_matplotlib/__init__.py:71: UserWarning: To output multiple subplots, the figure containing the passed axes is being cleared\n",
      "  plot_obj.generate()\n",
      "/Users/catcamacho/Library/Python/3.8/lib/python/site-packages/pandas/plotting/_matplotlib/__init__.py:71: UserWarning: To output multiple subplots, the figure containing the passed axes is being cleared\n",
      "  plot_obj.generate()\n",
      "/Users/catcamacho/Library/Python/3.8/lib/python/site-packages/pandas/plotting/_matplotlib/__init__.py:71: UserWarning: To output multiple subplots, the figure containing the passed axes is being cleared\n",
      "  plot_obj.generate()\n"
     ]
    },
    {
     "name": "stdout",
     "output_type": "stream",
     "text": [
      "Moviepy - Running:\n",
      ">>> \"+ \" \".join(cmd)\n",
      "Moviepy - Command successful\n"
     ]
    },
    {
     "name": "stderr",
     "output_type": "stream",
     "text": [
      "/Users/catcamacho/Library/Python/3.8/lib/python/site-packages/pandas/plotting/_matplotlib/__init__.py:71: UserWarning: To output multiple subplots, the figure containing the passed axes is being cleared\n",
      "  plot_obj.generate()\n",
      "/Users/catcamacho/Library/Python/3.8/lib/python/site-packages/pandas/plotting/_matplotlib/__init__.py:71: UserWarning: To output multiple subplots, the figure containing the passed axes is being cleared\n",
      "  plot_obj.generate()\n",
      "/Users/catcamacho/Library/Python/3.8/lib/python/site-packages/pandas/plotting/_matplotlib/__init__.py:71: UserWarning: To output multiple subplots, the figure containing the passed axes is being cleared\n",
      "  plot_obj.generate()\n",
      "/Users/catcamacho/Library/Python/3.8/lib/python/site-packages/pandas/plotting/_matplotlib/__init__.py:71: UserWarning: To output multiple subplots, the figure containing the passed axes is being cleared\n",
      "  plot_obj.generate()\n"
     ]
    },
    {
     "name": "stdout",
     "output_type": "stream",
     "text": [
      "Moviepy - Running:\n",
      ">>> \"+ \" \".join(cmd)\n",
      "Moviepy - Command successful\n"
     ]
    },
    {
     "name": "stderr",
     "output_type": "stream",
     "text": [
      "/Users/catcamacho/Library/Python/3.8/lib/python/site-packages/pandas/plotting/_matplotlib/__init__.py:71: UserWarning: To output multiple subplots, the figure containing the passed axes is being cleared\n",
      "  plot_obj.generate()\n",
      "/Users/catcamacho/Library/Python/3.8/lib/python/site-packages/pandas/plotting/_matplotlib/__init__.py:71: UserWarning: To output multiple subplots, the figure containing the passed axes is being cleared\n",
      "  plot_obj.generate()\n",
      "/Users/catcamacho/Library/Python/3.8/lib/python/site-packages/pandas/plotting/_matplotlib/__init__.py:71: UserWarning: To output multiple subplots, the figure containing the passed axes is being cleared\n",
      "  plot_obj.generate()\n",
      "/Users/catcamacho/Library/Python/3.8/lib/python/site-packages/pandas/plotting/_matplotlib/__init__.py:71: UserWarning: To output multiple subplots, the figure containing the passed axes is being cleared\n",
      "  plot_obj.generate()\n"
     ]
    },
    {
     "name": "stdout",
     "output_type": "stream",
     "text": [
      "Moviepy - Running:\n",
      ">>> \"+ \" \".join(cmd)\n",
      "Moviepy - Command successful\n"
     ]
    },
    {
     "name": "stderr",
     "output_type": "stream",
     "text": [
      "/Users/catcamacho/Library/Python/3.8/lib/python/site-packages/pandas/plotting/_matplotlib/__init__.py:71: UserWarning: To output multiple subplots, the figure containing the passed axes is being cleared\n",
      "  plot_obj.generate()\n",
      "/Users/catcamacho/Library/Python/3.8/lib/python/site-packages/pandas/plotting/_matplotlib/__init__.py:71: UserWarning: To output multiple subplots, the figure containing the passed axes is being cleared\n",
      "  plot_obj.generate()\n",
      "/Users/catcamacho/Library/Python/3.8/lib/python/site-packages/pandas/plotting/_matplotlib/__init__.py:71: UserWarning: To output multiple subplots, the figure containing the passed axes is being cleared\n",
      "  plot_obj.generate()\n",
      "/Users/catcamacho/Library/Python/3.8/lib/python/site-packages/pandas/plotting/_matplotlib/__init__.py:71: UserWarning: To output multiple subplots, the figure containing the passed axes is being cleared\n",
      "  plot_obj.generate()\n"
     ]
    },
    {
     "name": "stdout",
     "output_type": "stream",
     "text": [
      "Moviepy - Running:\n",
      ">>> \"+ \" \".join(cmd)\n",
      "Moviepy - Command successful\n"
     ]
    },
    {
     "name": "stderr",
     "output_type": "stream",
     "text": [
      "/Users/catcamacho/Library/Python/3.8/lib/python/site-packages/pandas/plotting/_matplotlib/__init__.py:71: UserWarning: To output multiple subplots, the figure containing the passed axes is being cleared\n",
      "  plot_obj.generate()\n",
      "/Users/catcamacho/Library/Python/3.8/lib/python/site-packages/pandas/plotting/_matplotlib/__init__.py:71: UserWarning: To output multiple subplots, the figure containing the passed axes is being cleared\n",
      "  plot_obj.generate()\n",
      "/Users/catcamacho/Library/Python/3.8/lib/python/site-packages/pandas/plotting/_matplotlib/__init__.py:71: UserWarning: To output multiple subplots, the figure containing the passed axes is being cleared\n",
      "  plot_obj.generate()\n",
      "/Users/catcamacho/Library/Python/3.8/lib/python/site-packages/pandas/plotting/_matplotlib/__init__.py:71: UserWarning: To output multiple subplots, the figure containing the passed axes is being cleared\n",
      "  plot_obj.generate()\n"
     ]
    },
    {
     "name": "stdout",
     "output_type": "stream",
     "text": [
      "Moviepy - Running:\n",
      ">>> \"+ \" \".join(cmd)\n",
      "Moviepy - Command successful\n"
     ]
    },
    {
     "name": "stderr",
     "output_type": "stream",
     "text": [
      "/Users/catcamacho/Library/Python/3.8/lib/python/site-packages/pandas/plotting/_matplotlib/__init__.py:71: UserWarning: To output multiple subplots, the figure containing the passed axes is being cleared\n",
      "  plot_obj.generate()\n",
      "/Users/catcamacho/Library/Python/3.8/lib/python/site-packages/pandas/plotting/_matplotlib/__init__.py:71: UserWarning: To output multiple subplots, the figure containing the passed axes is being cleared\n",
      "  plot_obj.generate()\n",
      "/Users/catcamacho/Library/Python/3.8/lib/python/site-packages/pandas/plotting/_matplotlib/__init__.py:71: UserWarning: To output multiple subplots, the figure containing the passed axes is being cleared\n",
      "  plot_obj.generate()\n",
      "/Users/catcamacho/Library/Python/3.8/lib/python/site-packages/pandas/plotting/_matplotlib/__init__.py:71: UserWarning: To output multiple subplots, the figure containing the passed axes is being cleared\n",
      "  plot_obj.generate()\n"
     ]
    },
    {
     "name": "stdout",
     "output_type": "stream",
     "text": [
      "Moviepy - Running:\n",
      ">>> \"+ \" \".join(cmd)\n",
      "Moviepy - Command successful\n"
     ]
    },
    {
     "name": "stderr",
     "output_type": "stream",
     "text": [
      "/Users/catcamacho/Library/Python/3.8/lib/python/site-packages/pandas/plotting/_matplotlib/__init__.py:71: UserWarning: To output multiple subplots, the figure containing the passed axes is being cleared\n",
      "  plot_obj.generate()\n",
      "/Users/catcamacho/Library/Python/3.8/lib/python/site-packages/pandas/plotting/_matplotlib/__init__.py:71: UserWarning: To output multiple subplots, the figure containing the passed axes is being cleared\n",
      "  plot_obj.generate()\n",
      "/Users/catcamacho/Library/Python/3.8/lib/python/site-packages/pandas/plotting/_matplotlib/__init__.py:71: UserWarning: To output multiple subplots, the figure containing the passed axes is being cleared\n",
      "  plot_obj.generate()\n",
      "/Users/catcamacho/Library/Python/3.8/lib/python/site-packages/pandas/plotting/_matplotlib/__init__.py:71: UserWarning: To output multiple subplots, the figure containing the passed axes is being cleared\n",
      "  plot_obj.generate()\n"
     ]
    },
    {
     "name": "stdout",
     "output_type": "stream",
     "text": [
      "Moviepy - Running:\n",
      ">>> \"+ \" \".join(cmd)\n",
      "Moviepy - Command successful\n"
     ]
    },
    {
     "name": "stderr",
     "output_type": "stream",
     "text": [
      "/Users/catcamacho/Library/Python/3.8/lib/python/site-packages/pandas/plotting/_matplotlib/__init__.py:71: UserWarning: To output multiple subplots, the figure containing the passed axes is being cleared\n",
      "  plot_obj.generate()\n",
      "/Users/catcamacho/Library/Python/3.8/lib/python/site-packages/pandas/plotting/_matplotlib/__init__.py:71: UserWarning: To output multiple subplots, the figure containing the passed axes is being cleared\n",
      "  plot_obj.generate()\n",
      "/Users/catcamacho/Library/Python/3.8/lib/python/site-packages/pandas/plotting/_matplotlib/__init__.py:71: UserWarning: To output multiple subplots, the figure containing the passed axes is being cleared\n",
      "  plot_obj.generate()\n",
      "/Users/catcamacho/Library/Python/3.8/lib/python/site-packages/pandas/plotting/_matplotlib/__init__.py:71: UserWarning: To output multiple subplots, the figure containing the passed axes is being cleared\n",
      "  plot_obj.generate()\n"
     ]
    },
    {
     "name": "stdout",
     "output_type": "stream",
     "text": [
      "Moviepy - Running:\n",
      ">>> \"+ \" \".join(cmd)\n",
      "Moviepy - Command successful\n"
     ]
    },
    {
     "name": "stderr",
     "output_type": "stream",
     "text": [
      "/Users/catcamacho/Library/Python/3.8/lib/python/site-packages/pandas/plotting/_matplotlib/__init__.py:71: UserWarning: To output multiple subplots, the figure containing the passed axes is being cleared\n",
      "  plot_obj.generate()\n",
      "/Users/catcamacho/Library/Python/3.8/lib/python/site-packages/pandas/plotting/_matplotlib/__init__.py:71: UserWarning: To output multiple subplots, the figure containing the passed axes is being cleared\n",
      "  plot_obj.generate()\n",
      "/Users/catcamacho/Library/Python/3.8/lib/python/site-packages/pandas/plotting/_matplotlib/__init__.py:71: UserWarning: To output multiple subplots, the figure containing the passed axes is being cleared\n",
      "  plot_obj.generate()\n",
      "/Users/catcamacho/Library/Python/3.8/lib/python/site-packages/pandas/plotting/_matplotlib/__init__.py:71: UserWarning: To output multiple subplots, the figure containing the passed axes is being cleared\n",
      "  plot_obj.generate()\n"
     ]
    },
    {
     "name": "stdout",
     "output_type": "stream",
     "text": [
      "Moviepy - Running:\n",
      ">>> \"+ \" \".join(cmd)\n",
      "Moviepy - Command successful\n"
     ]
    },
    {
     "name": "stderr",
     "output_type": "stream",
     "text": [
      "/Users/catcamacho/Library/Python/3.8/lib/python/site-packages/pandas/plotting/_matplotlib/__init__.py:71: UserWarning: To output multiple subplots, the figure containing the passed axes is being cleared\n",
      "  plot_obj.generate()\n",
      "/Users/catcamacho/Library/Python/3.8/lib/python/site-packages/pandas/plotting/_matplotlib/__init__.py:71: UserWarning: To output multiple subplots, the figure containing the passed axes is being cleared\n",
      "  plot_obj.generate()\n",
      "/Users/catcamacho/Library/Python/3.8/lib/python/site-packages/pandas/plotting/_matplotlib/__init__.py:71: UserWarning: To output multiple subplots, the figure containing the passed axes is being cleared\n",
      "  plot_obj.generate()\n",
      "/Users/catcamacho/Library/Python/3.8/lib/python/site-packages/pandas/plotting/_matplotlib/__init__.py:71: UserWarning: To output multiple subplots, the figure containing the passed axes is being cleared\n",
      "  plot_obj.generate()\n"
     ]
    },
    {
     "name": "stdout",
     "output_type": "stream",
     "text": [
      "Moviepy - Running:\n",
      ">>> \"+ \" \".join(cmd)\n",
      "Moviepy - Command successful\n"
     ]
    },
    {
     "name": "stderr",
     "output_type": "stream",
     "text": [
      "/Users/catcamacho/Library/Python/3.8/lib/python/site-packages/pandas/plotting/_matplotlib/__init__.py:71: UserWarning: To output multiple subplots, the figure containing the passed axes is being cleared\n",
      "  plot_obj.generate()\n",
      "/Users/catcamacho/Library/Python/3.8/lib/python/site-packages/pandas/plotting/_matplotlib/__init__.py:71: UserWarning: To output multiple subplots, the figure containing the passed axes is being cleared\n",
      "  plot_obj.generate()\n",
      "/Users/catcamacho/Library/Python/3.8/lib/python/site-packages/pandas/plotting/_matplotlib/__init__.py:71: UserWarning: To output multiple subplots, the figure containing the passed axes is being cleared\n",
      "  plot_obj.generate()\n",
      "/Users/catcamacho/Library/Python/3.8/lib/python/site-packages/pandas/plotting/_matplotlib/__init__.py:71: UserWarning: To output multiple subplots, the figure containing the passed axes is being cleared\n",
      "  plot_obj.generate()\n"
     ]
    },
    {
     "name": "stdout",
     "output_type": "stream",
     "text": [
      "Moviepy - Running:\n",
      ">>> \"+ \" \".join(cmd)\n",
      "Moviepy - Command successful\n"
     ]
    },
    {
     "name": "stderr",
     "output_type": "stream",
     "text": [
      "/Users/catcamacho/Library/Python/3.8/lib/python/site-packages/pandas/plotting/_matplotlib/__init__.py:71: UserWarning: To output multiple subplots, the figure containing the passed axes is being cleared\n",
      "  plot_obj.generate()\n",
      "/Users/catcamacho/Library/Python/3.8/lib/python/site-packages/pandas/plotting/_matplotlib/__init__.py:71: UserWarning: To output multiple subplots, the figure containing the passed axes is being cleared\n",
      "  plot_obj.generate()\n",
      "/Users/catcamacho/Library/Python/3.8/lib/python/site-packages/pandas/plotting/_matplotlib/__init__.py:71: UserWarning: To output multiple subplots, the figure containing the passed axes is being cleared\n",
      "  plot_obj.generate()\n",
      "/Users/catcamacho/Library/Python/3.8/lib/python/site-packages/pandas/plotting/_matplotlib/__init__.py:71: UserWarning: To output multiple subplots, the figure containing the passed axes is being cleared\n",
      "  plot_obj.generate()\n",
      "/Users/catcamacho/Library/Python/3.8/lib/python/site-packages/pandas/core/indexing.py:1667: SettingWithCopyWarning: \n",
      "A value is trying to be set on a copy of a slice from a DataFrame.\n",
      "Try using .loc[row_indexer,col_indexer] = value instead\n",
      "\n",
      "See the caveats in the documentation: https://pandas.pydata.org/pandas-docs/stable/user_guide/indexing.html#returning-a-view-versus-a-copy\n",
      "  self.obj[key] = value\n",
      "/Users/catcamacho/Library/Python/3.8/lib/python/site-packages/pandas/plotting/_matplotlib/__init__.py:71: UserWarning: To output multiple subplots, the figure containing the passed axes is being cleared\n",
      "  plot_obj.generate()\n"
     ]
    },
    {
     "name": "stdout",
     "output_type": "stream",
     "text": [
      "Moviepy - Running:\n",
      ">>> \"+ \" \".join(cmd)\n",
      "Moviepy - Command successful\n"
     ]
    },
    {
     "name": "stderr",
     "output_type": "stream",
     "text": [
      "/Users/catcamacho/Library/Python/3.8/lib/python/site-packages/pandas/plotting/_matplotlib/__init__.py:71: UserWarning: To output multiple subplots, the figure containing the passed axes is being cleared\n",
      "  plot_obj.generate()\n",
      "/Users/catcamacho/Library/Python/3.8/lib/python/site-packages/pandas/plotting/_matplotlib/__init__.py:71: UserWarning: To output multiple subplots, the figure containing the passed axes is being cleared\n",
      "  plot_obj.generate()\n",
      "/Users/catcamacho/Library/Python/3.8/lib/python/site-packages/pandas/plotting/_matplotlib/__init__.py:71: UserWarning: To output multiple subplots, the figure containing the passed axes is being cleared\n",
      "  plot_obj.generate()\n"
     ]
    },
    {
     "name": "stdout",
     "output_type": "stream",
     "text": [
      "Moviepy - Running:\n",
      ">>> \"+ \" \".join(cmd)\n",
      "Moviepy - Command successful\n"
     ]
    },
    {
     "name": "stderr",
     "output_type": "stream",
     "text": [
      "/Users/catcamacho/Library/Python/3.8/lib/python/site-packages/pandas/plotting/_matplotlib/__init__.py:71: UserWarning: To output multiple subplots, the figure containing the passed axes is being cleared\n",
      "  plot_obj.generate()\n",
      "/Users/catcamacho/Library/Python/3.8/lib/python/site-packages/pandas/plotting/_matplotlib/__init__.py:71: UserWarning: To output multiple subplots, the figure containing the passed axes is being cleared\n",
      "  plot_obj.generate()\n",
      "/Users/catcamacho/Library/Python/3.8/lib/python/site-packages/pandas/plotting/_matplotlib/__init__.py:71: UserWarning: To output multiple subplots, the figure containing the passed axes is being cleared\n",
      "  plot_obj.generate()\n",
      "/Users/catcamacho/Library/Python/3.8/lib/python/site-packages/pandas/plotting/_matplotlib/__init__.py:71: UserWarning: To output multiple subplots, the figure containing the passed axes is being cleared\n",
      "  plot_obj.generate()\n"
     ]
    },
    {
     "name": "stdout",
     "output_type": "stream",
     "text": [
      "No differences between peak and nonpeak ratings\n",
      "Moviepy - Running:\n",
      ">>> \"+ \" \".join(cmd)\n",
      "Moviepy - Command successful\n"
     ]
    },
    {
     "name": "stderr",
     "output_type": "stream",
     "text": [
      "/Users/catcamacho/Library/Python/3.8/lib/python/site-packages/pandas/plotting/_matplotlib/__init__.py:71: UserWarning: To output multiple subplots, the figure containing the passed axes is being cleared\n",
      "  plot_obj.generate()\n",
      "/Users/catcamacho/Library/Python/3.8/lib/python/site-packages/pandas/plotting/_matplotlib/__init__.py:71: UserWarning: To output multiple subplots, the figure containing the passed axes is being cleared\n",
      "  plot_obj.generate()\n",
      "/Users/catcamacho/Library/Python/3.8/lib/python/site-packages/pandas/plotting/_matplotlib/__init__.py:71: UserWarning: To output multiple subplots, the figure containing the passed axes is being cleared\n",
      "  plot_obj.generate()\n",
      "/Users/catcamacho/Library/Python/3.8/lib/python/site-packages/pandas/plotting/_matplotlib/__init__.py:71: UserWarning: To output multiple subplots, the figure containing the passed axes is being cleared\n",
      "  plot_obj.generate()\n"
     ]
    },
    {
     "name": "stdout",
     "output_type": "stream",
     "text": [
      "Moviepy - Running:\n",
      ">>> \"+ \" \".join(cmd)\n",
      "Moviepy - Command successful\n"
     ]
    },
    {
     "name": "stderr",
     "output_type": "stream",
     "text": [
      "/Users/catcamacho/Library/Python/3.8/lib/python/site-packages/pandas/plotting/_matplotlib/__init__.py:71: UserWarning: To output multiple subplots, the figure containing the passed axes is being cleared\n",
      "  plot_obj.generate()\n",
      "/Users/catcamacho/Library/Python/3.8/lib/python/site-packages/pandas/plotting/_matplotlib/__init__.py:71: UserWarning: To output multiple subplots, the figure containing the passed axes is being cleared\n",
      "  plot_obj.generate()\n",
      "/Users/catcamacho/Library/Python/3.8/lib/python/site-packages/pandas/plotting/_matplotlib/__init__.py:71: UserWarning: To output multiple subplots, the figure containing the passed axes is being cleared\n",
      "  plot_obj.generate()\n",
      "/Users/catcamacho/Library/Python/3.8/lib/python/site-packages/pandas/plotting/_matplotlib/__init__.py:71: UserWarning: To output multiple subplots, the figure containing the passed axes is being cleared\n",
      "  plot_obj.generate()\n"
     ]
    },
    {
     "name": "stdout",
     "output_type": "stream",
     "text": [
      "Moviepy - Running:\n",
      ">>> \"+ \" \".join(cmd)\n",
      "Moviepy - Command successful\n"
     ]
    },
    {
     "name": "stderr",
     "output_type": "stream",
     "text": [
      "/Users/catcamacho/Library/Python/3.8/lib/python/site-packages/pandas/plotting/_matplotlib/__init__.py:71: UserWarning: To output multiple subplots, the figure containing the passed axes is being cleared\n",
      "  plot_obj.generate()\n",
      "/Users/catcamacho/Library/Python/3.8/lib/python/site-packages/pandas/plotting/_matplotlib/__init__.py:71: UserWarning: To output multiple subplots, the figure containing the passed axes is being cleared\n",
      "  plot_obj.generate()\n",
      "/Users/catcamacho/Library/Python/3.8/lib/python/site-packages/pandas/plotting/_matplotlib/__init__.py:71: UserWarning: To output multiple subplots, the figure containing the passed axes is being cleared\n",
      "  plot_obj.generate()\n",
      "/Users/catcamacho/Library/Python/3.8/lib/python/site-packages/pandas/plotting/_matplotlib/__init__.py:71: UserWarning: To output multiple subplots, the figure containing the passed axes is being cleared\n",
      "  plot_obj.generate()\n"
     ]
    },
    {
     "name": "stdout",
     "output_type": "stream",
     "text": [
      "Moviepy - Running:\n",
      ">>> \"+ \" \".join(cmd)\n",
      "Moviepy - Command successful\n"
     ]
    },
    {
     "name": "stderr",
     "output_type": "stream",
     "text": [
      "/Users/catcamacho/Library/Python/3.8/lib/python/site-packages/pandas/plotting/_matplotlib/__init__.py:71: UserWarning: To output multiple subplots, the figure containing the passed axes is being cleared\n",
      "  plot_obj.generate()\n",
      "/Users/catcamacho/Library/Python/3.8/lib/python/site-packages/pandas/plotting/_matplotlib/__init__.py:71: UserWarning: To output multiple subplots, the figure containing the passed axes is being cleared\n",
      "  plot_obj.generate()\n",
      "/Users/catcamacho/Library/Python/3.8/lib/python/site-packages/pandas/plotting/_matplotlib/__init__.py:71: UserWarning: To output multiple subplots, the figure containing the passed axes is being cleared\n",
      "  plot_obj.generate()\n",
      "/Users/catcamacho/Library/Python/3.8/lib/python/site-packages/pandas/plotting/_matplotlib/__init__.py:71: UserWarning: To output multiple subplots, the figure containing the passed axes is being cleared\n",
      "  plot_obj.generate()\n"
     ]
    },
    {
     "name": "stdout",
     "output_type": "stream",
     "text": [
      "Moviepy - Running:\n",
      ">>> \"+ \" \".join(cmd)\n",
      "Moviepy - Command successful\n"
     ]
    },
    {
     "name": "stderr",
     "output_type": "stream",
     "text": [
      "/Users/catcamacho/Library/Python/3.8/lib/python/site-packages/pandas/plotting/_matplotlib/__init__.py:71: UserWarning: To output multiple subplots, the figure containing the passed axes is being cleared\n",
      "  plot_obj.generate()\n",
      "/Users/catcamacho/Library/Python/3.8/lib/python/site-packages/pandas/plotting/_matplotlib/__init__.py:71: UserWarning: To output multiple subplots, the figure containing the passed axes is being cleared\n",
      "  plot_obj.generate()\n",
      "/Users/catcamacho/Library/Python/3.8/lib/python/site-packages/pandas/plotting/_matplotlib/__init__.py:71: UserWarning: To output multiple subplots, the figure containing the passed axes is being cleared\n",
      "  plot_obj.generate()\n",
      "/Users/catcamacho/Library/Python/3.8/lib/python/site-packages/pandas/plotting/_matplotlib/__init__.py:71: UserWarning: To output multiple subplots, the figure containing the passed axes is being cleared\n",
      "  plot_obj.generate()\n"
     ]
    },
    {
     "name": "stdout",
     "output_type": "stream",
     "text": [
      "Moviepy - Running:\n",
      ">>> \"+ \" \".join(cmd)\n",
      "Moviepy - Command successful\n"
     ]
    },
    {
     "name": "stderr",
     "output_type": "stream",
     "text": [
      "/Users/catcamacho/Library/Python/3.8/lib/python/site-packages/pandas/plotting/_matplotlib/__init__.py:71: UserWarning: To output multiple subplots, the figure containing the passed axes is being cleared\n",
      "  plot_obj.generate()\n",
      "/Users/catcamacho/Library/Python/3.8/lib/python/site-packages/pandas/plotting/_matplotlib/__init__.py:71: UserWarning: To output multiple subplots, the figure containing the passed axes is being cleared\n",
      "  plot_obj.generate()\n",
      "/Users/catcamacho/Library/Python/3.8/lib/python/site-packages/pandas/plotting/_matplotlib/__init__.py:71: UserWarning: To output multiple subplots, the figure containing the passed axes is being cleared\n",
      "  plot_obj.generate()\n",
      "/Users/catcamacho/Library/Python/3.8/lib/python/site-packages/pandas/plotting/_matplotlib/__init__.py:71: UserWarning: To output multiple subplots, the figure containing the passed axes is being cleared\n",
      "  plot_obj.generate()\n"
     ]
    },
    {
     "name": "stdout",
     "output_type": "stream",
     "text": [
      "Moviepy - Running:\n",
      ">>> \"+ \" \".join(cmd)\n",
      "Moviepy - Command successful\n"
     ]
    },
    {
     "name": "stderr",
     "output_type": "stream",
     "text": [
      "/Users/catcamacho/Library/Python/3.8/lib/python/site-packages/pandas/plotting/_matplotlib/__init__.py:71: UserWarning: To output multiple subplots, the figure containing the passed axes is being cleared\n",
      "  plot_obj.generate()\n",
      "/Users/catcamacho/Library/Python/3.8/lib/python/site-packages/pandas/plotting/_matplotlib/__init__.py:71: UserWarning: To output multiple subplots, the figure containing the passed axes is being cleared\n",
      "  plot_obj.generate()\n",
      "/Users/catcamacho/Library/Python/3.8/lib/python/site-packages/pandas/plotting/_matplotlib/__init__.py:71: UserWarning: To output multiple subplots, the figure containing the passed axes is being cleared\n",
      "  plot_obj.generate()\n",
      "/Users/catcamacho/Library/Python/3.8/lib/python/site-packages/pandas/plotting/_matplotlib/__init__.py:71: UserWarning: To output multiple subplots, the figure containing the passed axes is being cleared\n",
      "  plot_obj.generate()\n"
     ]
    },
    {
     "name": "stdout",
     "output_type": "stream",
     "text": [
      "Moviepy - Running:\n",
      ">>> \"+ \" \".join(cmd)\n",
      "Moviepy - Command successful\n"
     ]
    },
    {
     "name": "stderr",
     "output_type": "stream",
     "text": [
      "/Users/catcamacho/Library/Python/3.8/lib/python/site-packages/pandas/plotting/_matplotlib/__init__.py:71: UserWarning: To output multiple subplots, the figure containing the passed axes is being cleared\n",
      "  plot_obj.generate()\n",
      "/Users/catcamacho/Library/Python/3.8/lib/python/site-packages/pandas/plotting/_matplotlib/__init__.py:71: UserWarning: To output multiple subplots, the figure containing the passed axes is being cleared\n",
      "  plot_obj.generate()\n",
      "/Users/catcamacho/Library/Python/3.8/lib/python/site-packages/pandas/plotting/_matplotlib/__init__.py:71: UserWarning: To output multiple subplots, the figure containing the passed axes is being cleared\n",
      "  plot_obj.generate()\n",
      "/Users/catcamacho/Library/Python/3.8/lib/python/site-packages/pandas/plotting/_matplotlib/__init__.py:71: UserWarning: To output multiple subplots, the figure containing the passed axes is being cleared\n",
      "  plot_obj.generate()\n"
     ]
    },
    {
     "name": "stdout",
     "output_type": "stream",
     "text": [
      "Moviepy - Running:\n",
      ">>> \"+ \" \".join(cmd)\n",
      "Moviepy - Command successful\n"
     ]
    },
    {
     "name": "stderr",
     "output_type": "stream",
     "text": [
      "/Users/catcamacho/Library/Python/3.8/lib/python/site-packages/pandas/plotting/_matplotlib/__init__.py:71: UserWarning: To output multiple subplots, the figure containing the passed axes is being cleared\n",
      "  plot_obj.generate()\n",
      "/Users/catcamacho/Library/Python/3.8/lib/python/site-packages/pandas/plotting/_matplotlib/__init__.py:71: UserWarning: To output multiple subplots, the figure containing the passed axes is being cleared\n",
      "  plot_obj.generate()\n",
      "/Users/catcamacho/Library/Python/3.8/lib/python/site-packages/pandas/plotting/_matplotlib/__init__.py:71: UserWarning: To output multiple subplots, the figure containing the passed axes is being cleared\n",
      "  plot_obj.generate()\n",
      "/Users/catcamacho/Library/Python/3.8/lib/python/site-packages/pandas/plotting/_matplotlib/__init__.py:71: UserWarning: To output multiple subplots, the figure containing the passed axes is being cleared\n",
      "  plot_obj.generate()\n"
     ]
    },
    {
     "name": "stdout",
     "output_type": "stream",
     "text": [
      "Moviepy - Running:\n",
      ">>> \"+ \" \".join(cmd)\n",
      "Moviepy - Command successful\n"
     ]
    },
    {
     "name": "stderr",
     "output_type": "stream",
     "text": [
      "/Users/catcamacho/Library/Python/3.8/lib/python/site-packages/pandas/plotting/_matplotlib/__init__.py:71: UserWarning: To output multiple subplots, the figure containing the passed axes is being cleared\n",
      "  plot_obj.generate()\n",
      "/Users/catcamacho/Library/Python/3.8/lib/python/site-packages/pandas/plotting/_matplotlib/__init__.py:71: UserWarning: To output multiple subplots, the figure containing the passed axes is being cleared\n",
      "  plot_obj.generate()\n",
      "/Users/catcamacho/Library/Python/3.8/lib/python/site-packages/pandas/plotting/_matplotlib/__init__.py:71: UserWarning: To output multiple subplots, the figure containing the passed axes is being cleared\n",
      "  plot_obj.generate()\n",
      "/Users/catcamacho/Library/Python/3.8/lib/python/site-packages/pandas/plotting/_matplotlib/__init__.py:71: UserWarning: To output multiple subplots, the figure containing the passed axes is being cleared\n",
      "  plot_obj.generate()\n"
     ]
    },
    {
     "name": "stdout",
     "output_type": "stream",
     "text": [
      "Moviepy - Running:\n",
      ">>> \"+ \" \".join(cmd)\n",
      "Moviepy - Command successful\n"
     ]
    },
    {
     "name": "stderr",
     "output_type": "stream",
     "text": [
      "/Users/catcamacho/Library/Python/3.8/lib/python/site-packages/pandas/plotting/_matplotlib/__init__.py:71: UserWarning: To output multiple subplots, the figure containing the passed axes is being cleared\n",
      "  plot_obj.generate()\n",
      "/Users/catcamacho/Library/Python/3.8/lib/python/site-packages/pandas/plotting/_matplotlib/__init__.py:71: UserWarning: To output multiple subplots, the figure containing the passed axes is being cleared\n",
      "  plot_obj.generate()\n",
      "/Users/catcamacho/Library/Python/3.8/lib/python/site-packages/pandas/plotting/_matplotlib/__init__.py:71: UserWarning: To output multiple subplots, the figure containing the passed axes is being cleared\n",
      "  plot_obj.generate()\n",
      "/Users/catcamacho/Library/Python/3.8/lib/python/site-packages/pandas/plotting/_matplotlib/__init__.py:71: UserWarning: To output multiple subplots, the figure containing the passed axes is being cleared\n",
      "  plot_obj.generate()\n"
     ]
    },
    {
     "name": "stdout",
     "output_type": "stream",
     "text": [
      "Moviepy - Running:\n",
      ">>> \"+ \" \".join(cmd)\n",
      "Moviepy - Command successful\n"
     ]
    },
    {
     "name": "stderr",
     "output_type": "stream",
     "text": [
      "/Users/catcamacho/Library/Python/3.8/lib/python/site-packages/pandas/plotting/_matplotlib/__init__.py:71: UserWarning: To output multiple subplots, the figure containing the passed axes is being cleared\n",
      "  plot_obj.generate()\n",
      "/Users/catcamacho/Library/Python/3.8/lib/python/site-packages/pandas/plotting/_matplotlib/__init__.py:71: UserWarning: To output multiple subplots, the figure containing the passed axes is being cleared\n",
      "  plot_obj.generate()\n",
      "/Users/catcamacho/Library/Python/3.8/lib/python/site-packages/pandas/plotting/_matplotlib/__init__.py:71: UserWarning: To output multiple subplots, the figure containing the passed axes is being cleared\n",
      "  plot_obj.generate()\n",
      "/Users/catcamacho/Library/Python/3.8/lib/python/site-packages/pandas/plotting/_matplotlib/__init__.py:71: UserWarning: To output multiple subplots, the figure containing the passed axes is being cleared\n",
      "  plot_obj.generate()\n"
     ]
    },
    {
     "name": "stdout",
     "output_type": "stream",
     "text": [
      "Moviepy - Running:\n",
      ">>> \"+ \" \".join(cmd)\n",
      "Moviepy - Command successful\n"
     ]
    },
    {
     "name": "stderr",
     "output_type": "stream",
     "text": [
      "/Users/catcamacho/Library/Python/3.8/lib/python/site-packages/pandas/plotting/_matplotlib/__init__.py:71: UserWarning: To output multiple subplots, the figure containing the passed axes is being cleared\n",
      "  plot_obj.generate()\n",
      "/Users/catcamacho/Library/Python/3.8/lib/python/site-packages/pandas/plotting/_matplotlib/__init__.py:71: UserWarning: To output multiple subplots, the figure containing the passed axes is being cleared\n",
      "  plot_obj.generate()\n",
      "/Users/catcamacho/Library/Python/3.8/lib/python/site-packages/pandas/plotting/_matplotlib/__init__.py:71: UserWarning: To output multiple subplots, the figure containing the passed axes is being cleared\n",
      "  plot_obj.generate()\n",
      "/Users/catcamacho/Library/Python/3.8/lib/python/site-packages/pandas/plotting/_matplotlib/__init__.py:71: UserWarning: To output multiple subplots, the figure containing the passed axes is being cleared\n",
      "  plot_obj.generate()\n"
     ]
    },
    {
     "name": "stdout",
     "output_type": "stream",
     "text": [
      "Moviepy - Running:\n",
      ">>> \"+ \" \".join(cmd)\n",
      "Moviepy - Command successful\n"
     ]
    },
    {
     "name": "stderr",
     "output_type": "stream",
     "text": [
      "/Users/catcamacho/Library/Python/3.8/lib/python/site-packages/pandas/plotting/_matplotlib/__init__.py:71: UserWarning: To output multiple subplots, the figure containing the passed axes is being cleared\n",
      "  plot_obj.generate()\n",
      "/Users/catcamacho/Library/Python/3.8/lib/python/site-packages/pandas/plotting/_matplotlib/__init__.py:71: UserWarning: To output multiple subplots, the figure containing the passed axes is being cleared\n",
      "  plot_obj.generate()\n",
      "/Users/catcamacho/Library/Python/3.8/lib/python/site-packages/pandas/plotting/_matplotlib/__init__.py:71: UserWarning: To output multiple subplots, the figure containing the passed axes is being cleared\n",
      "  plot_obj.generate()\n",
      "/Users/catcamacho/Library/Python/3.8/lib/python/site-packages/pandas/plotting/_matplotlib/__init__.py:71: UserWarning: To output multiple subplots, the figure containing the passed axes is being cleared\n",
      "  plot_obj.generate()\n"
     ]
    },
    {
     "name": "stdout",
     "output_type": "stream",
     "text": [
      "Moviepy - Running:\n",
      ">>> \"+ \" \".join(cmd)\n",
      "Moviepy - Command successful\n"
     ]
    },
    {
     "name": "stderr",
     "output_type": "stream",
     "text": [
      "/Users/catcamacho/Library/Python/3.8/lib/python/site-packages/pandas/plotting/_matplotlib/__init__.py:71: UserWarning: To output multiple subplots, the figure containing the passed axes is being cleared\n",
      "  plot_obj.generate()\n",
      "/Users/catcamacho/Library/Python/3.8/lib/python/site-packages/pandas/plotting/_matplotlib/__init__.py:71: UserWarning: To output multiple subplots, the figure containing the passed axes is being cleared\n",
      "  plot_obj.generate()\n",
      "/Users/catcamacho/Library/Python/3.8/lib/python/site-packages/pandas/plotting/_matplotlib/__init__.py:71: UserWarning: To output multiple subplots, the figure containing the passed axes is being cleared\n",
      "  plot_obj.generate()\n",
      "/Users/catcamacho/Library/Python/3.8/lib/python/site-packages/pandas/plotting/_matplotlib/__init__.py:71: UserWarning: To output multiple subplots, the figure containing the passed axes is being cleared\n",
      "  plot_obj.generate()\n"
     ]
    },
    {
     "name": "stdout",
     "output_type": "stream",
     "text": [
      "Moviepy - Running:\n",
      ">>> \"+ \" \".join(cmd)\n",
      "Moviepy - Command successful\n"
     ]
    },
    {
     "name": "stderr",
     "output_type": "stream",
     "text": [
      "/Users/catcamacho/Library/Python/3.8/lib/python/site-packages/pandas/plotting/_matplotlib/__init__.py:71: UserWarning: To output multiple subplots, the figure containing the passed axes is being cleared\n",
      "  plot_obj.generate()\n",
      "/Users/catcamacho/Library/Python/3.8/lib/python/site-packages/pandas/plotting/_matplotlib/__init__.py:71: UserWarning: To output multiple subplots, the figure containing the passed axes is being cleared\n",
      "  plot_obj.generate()\n",
      "/Users/catcamacho/Library/Python/3.8/lib/python/site-packages/pandas/plotting/_matplotlib/__init__.py:71: UserWarning: To output multiple subplots, the figure containing the passed axes is being cleared\n",
      "  plot_obj.generate()\n",
      "/Users/catcamacho/Library/Python/3.8/lib/python/site-packages/pandas/plotting/_matplotlib/__init__.py:71: UserWarning: To output multiple subplots, the figure containing the passed axes is being cleared\n",
      "  plot_obj.generate()\n",
      "/Users/catcamacho/Library/Python/3.8/lib/python/site-packages/pandas/core/indexing.py:1667: SettingWithCopyWarning: \n",
      "A value is trying to be set on a copy of a slice from a DataFrame.\n",
      "Try using .loc[row_indexer,col_indexer] = value instead\n",
      "\n",
      "See the caveats in the documentation: https://pandas.pydata.org/pandas-docs/stable/user_guide/indexing.html#returning-a-view-versus-a-copy\n",
      "  self.obj[key] = value\n",
      "/Users/catcamacho/Library/Python/3.8/lib/python/site-packages/pandas/plotting/_matplotlib/__init__.py:71: UserWarning: To output multiple subplots, the figure containing the passed axes is being cleared\n",
      "  plot_obj.generate()\n"
     ]
    },
    {
     "name": "stdout",
     "output_type": "stream",
     "text": [
      "Moviepy - Running:\n",
      ">>> \"+ \" \".join(cmd)\n",
      "Moviepy - Command successful\n"
     ]
    },
    {
     "name": "stderr",
     "output_type": "stream",
     "text": [
      "/Users/catcamacho/Library/Python/3.8/lib/python/site-packages/pandas/plotting/_matplotlib/__init__.py:71: UserWarning: To output multiple subplots, the figure containing the passed axes is being cleared\n",
      "  plot_obj.generate()\n",
      "/Users/catcamacho/Library/Python/3.8/lib/python/site-packages/pandas/plotting/_matplotlib/__init__.py:71: UserWarning: To output multiple subplots, the figure containing the passed axes is being cleared\n",
      "  plot_obj.generate()\n",
      "/Users/catcamacho/Library/Python/3.8/lib/python/site-packages/pandas/plotting/_matplotlib/__init__.py:71: UserWarning: To output multiple subplots, the figure containing the passed axes is being cleared\n",
      "  plot_obj.generate()\n"
     ]
    }
   ],
   "source": [
    "## determine which scenes evoke greater synchrony across older children\n",
    "nois = ['Visual', 'Auditory', 'DorsalAttn', 'VentralAttn', 'CinguloOperc', 'Default', 'FrontoParietal'] \n",
    "\n",
    "for movie in ['DM','TP']:\n",
    "    for mat in ['age']:\n",
    "        if movie=='DM':\n",
    "            video_file = '/Users/catcamacho/Library/CloudStorage/Box-Box/CCP/HBN_study/HBN_video_coding/Videos/Despicable_Me_1000.mp4'\n",
    "            movie_dur=600\n",
    "        else:\n",
    "            video_file = '/Users/catcamacho/Library/CloudStorage/Box-Box/CCP/HBN_study/HBN_video_coding/Videos/The_Present_0321.mp4'\n",
    "            movie_dur = 200\n",
    "\n",
    "        # identify oldest 20% of sample\n",
    "        discmetric = subinfo.loc[(subinfo['site']=='rubic') & (subinfo['movie']==movie) & np.isfinite(subinfo[mat]),mat].to_numpy()\n",
    "        discmask = (discmetric>=np.percentile(discmetric, 80)).astype(int)\n",
    "        repmetric = subinfo.loc[(subinfo['site']=='cbic') & (subinfo['movie']==movie) & np.isfinite(subinfo[mat]),mat].to_numpy()\n",
    "        repmask = (repmetric>=np.percentile(repmetric, 80)).astype(int)\n",
    "\n",
    "        discovery_data = {'color':'#BAB3BF', 'matmask': {'mask': discmask, 'cutoff': np.percentile(discmetric, 80)}}\n",
    "        replication_data = {'color':'#BAB3BF','matmask': {'mask': repmask, 'cutoff': np.percentile(repmetric, 80)}}\n",
    "        both_data = {'color':'#BAB3BF','network_info':{}}\n",
    "        time = np.arange(0,movie_dur, 0.8)\n",
    "\n",
    "        ratings_file = os.path.join(project_dir, 'HBN_video_coding/processing/summary/{0}_summary_codes_intuitivenames.csv'.format(movie))\n",
    "        out_folder = os.path.join(out_dir, 'maturity','dynamic_movie{0}_{1}_top20'.format(movie, mat))\n",
    "        os.makedirs(out_folder, exist_ok=True)\n",
    "\n",
    "        # load discovery data\n",
    "        disc_phase_file = os.path.join(out_dir, 'maturity', 'dynamic_rubic_movie{0}_{1}'.format(movie, mat), \n",
    "                                       'phase_data_rubic_movie{0}.npy'.format(movie))\n",
    "        disc_phase = np.load(disc_phase_file)[:,:, discmask==1]\n",
    "        out_prefix = os.path.join(out_folder, 'disc_oldest20_')\n",
    "        if os.path.isfile(out_prefix + 'mean_isps_data.npy'):\n",
    "            disc_mean_sim = np.load(out_prefix + 'mean_isps_data.npy')\n",
    "        else:\n",
    "            disc_mean_sim, _ = compute_isps(disc_phase, out_prefix)\n",
    "        if disc_mean_sim.shape[1]!=len(parcel_labels):\n",
    "            disc_mean_sim = disc_mean_sim.T\n",
    "\n",
    "        # load replication data\n",
    "        rep_phase_file = os.path.join(out_dir, 'maturity', 'dynamic_cbic_movie{0}_{1}'.format(movie, mat), \n",
    "                                      'phase_data_cbic_movie{0}.npy'.format(movie))\n",
    "        rep_phase = np.load(rep_phase_file)[:,:, repmask==1]\n",
    "        out_prefix = os.path.join(out_folder, 'rep_oldest20_')\n",
    "        if os.path.isfile(out_prefix + 'mean_isps_data.npy'):\n",
    "            rep_mean_sim = np.load(out_prefix + 'mean_isps_data.npy')\n",
    "        else:\n",
    "            rep_mean_sim, _ = compute_isps(rep_phase, out_prefix)\n",
    "        if rep_mean_sim.shape[1]!=len(parcel_labels):\n",
    "            rep_mean_sim = rep_mean_sim.T\n",
    "\n",
    "        # identify sig parcels from sim analysis\n",
    "        if mat=='PPS_score':\n",
    "            sig_parcs_file = os.path.join(out_dir, 'maturity', 'ts_isc_movie{0}_{1}'.format(movie, 'puberty'),\n",
    "                                          'movie{0}_isc_{1}_AnnaKmin_maskedrho_fdr0.01127.pscalar.nii'.format(movie, 'puberty'))\n",
    "        else:\n",
    "            sig_parcs_file = os.path.join(out_dir, 'maturity', 'ts_isc_movie{0}_{1}'.format(movie, mat),\n",
    "                                          'movie{0}_isc_{1}_AnnaKmin_maskedrho_fdr0.01127.pscalar.nii'.format(movie, mat))\n",
    "        sigparcsmask = (np.squeeze(nib.load(sig_parcs_file).get_fdata()) > 0).astype(int)\n",
    "\n",
    "        # average across network/region\n",
    "        disc_sim_net = np.zeros((disc_mean_sim.shape[0], len(nois)))\n",
    "        rep_sim_net = np.zeros((rep_mean_sim.shape[0], len(nois)))\n",
    "\n",
    "        for i, n in enumerate(nois):\n",
    "            disc_sim_net[:,i] = np.mean(disc_mean_sim[:,(network_labels==n) & (sigparcsmask==1)], axis=1)\n",
    "            rep_sim_net[:,i] = np.mean(rep_mean_sim[:,(network_labels==n) & (sigparcsmask==1)], axis=1)\n",
    "            both_data['network_info'][n] = parcel_labels[(network_labels==n) & (sigparcsmask==1)]\n",
    "\n",
    "            # make label file for sig parcels\n",
    "            ax1 = nib.load(atlas_file).header.get_axis(1)\n",
    "            data = nib.load(atlas_file).get_fdata()\n",
    "            ax0 = nib.load(atlas_file).header.get_axis(0)\n",
    "            newmap=dict()\n",
    "            newmap[0] = ax0[0][1][0]\n",
    "            parcels_keep = both_data['network_info'][n]\n",
    "            for a in range(1,len(parcel_labels) +1):\n",
    "                if parcel_labels[a-1] in parcels_keep:\n",
    "                    newmap[a] = (parcel_labels[a-1], (142/255, 50/255, 209/255, 1))\n",
    "                else:\n",
    "                    newmap[a] = (parcel_labels[a-1], (1,1,1,0))\n",
    "            ax0.label[0] = newmap\n",
    "            img = nib.cifti2.cifti2.Cifti2Image(data, (ax0, ax1))\n",
    "            nib.save(img, os.path.join(out_folder, 'sig_parcels_net-{0}.dlabel.nii'.format(n)))\n",
    "\n",
    "        #### plot synchrony ####\n",
    "        for i, net in enumerate(nois):\n",
    "            fig, ax = plt.subplots(2,1,figsize=(12,6), sharex=True, sharey=True)\n",
    "            # detect peaks in activation based on 2SDs above the mean\n",
    "            discmean = np.mean(disc_sim_net[:,i])\n",
    "            discmin = discmean + 1.5*np.std(disc_sim_net[:,i])\n",
    "            dcpeaks, dcproperties = scs.find_peaks(disc_sim_net[:,i], width=5, height=discmin)\n",
    "\n",
    "            repmean = np.mean(rep_sim_net[:,i])\n",
    "            repmin = repmean + 1.5*np.std(rep_sim_net[:,i])\n",
    "            rcpeaks, rcproperties = scs.find_peaks(rep_sim_net[:,i], width=5, height=repmin)\n",
    "\n",
    "            peaks = pd.DataFrame(0,index=np.arange(0,movie_dur, TR), columns=['disc','rep'])\n",
    "            peaks['time'] = np.arange(0,movie_dur, TR)\n",
    "            for i_c, c in enumerate(dcproperties['prominences']):\n",
    "                peaks.loc[dcproperties['left_ips'][i_c]*TR:dcproperties['right_ips'][i_c]*TR, 'disc'] = 1\n",
    "            for i_c, c in enumerate(rcproperties['prominences']):\n",
    "                peaks.loc[rcproperties['left_ips'][i_c]*TR:rcproperties['right_ips'][i_c]*TR, 'rep'] = 1\n",
    "            peaks['disc_mean'] = disc_sim_net[:,i]\n",
    "            peaks['rep_mean'] = rep_sim_net[:,i]\n",
    "            both_data[net]={'long_peaks':peaks}\n",
    "            peaks['both'] = ((peaks['disc']==1) & (peaks['rep']==1)).astype(int)\n",
    "            peaks['segment'] = (peaks['both'].diff(1) != 0).astype(int).cumsum()\n",
    "            res = pd.DataFrame({'start': peaks.groupby('segment').time.first(),\n",
    "                                'end': peaks.groupby('segment').time.last(),\n",
    "                                'dur': peaks.groupby('segment').time.last()-peaks.groupby('segment').time.first(),\n",
    "                                'disc_mean':peaks.groupby('segment')['disc_mean'].mean(),\n",
    "                                'rep_mean':peaks.groupby('segment')['rep_mean'].mean(),\n",
    "                                'disc_max':peaks.groupby('segment')['disc_mean'].max(),\n",
    "                                'rep_max':peaks.groupby('segment')['rep_mean'].max(),\n",
    "                                'value': peaks.groupby('segment')['both'].mean()}).reset_index(drop=True)\n",
    "            peaks_to_delete = res.loc[(res['value'] == 1) & (res['dur']<4), :]\n",
    "            if len(peaks_to_delete)>0:\n",
    "                for a in peaks_to_delete.index:\n",
    "                    both_data[net]['long_peaks'].loc[peaks_to_delete.loc[a,'start']:peaks_to_delete.loc[a,'end'], 'both'] = 0\n",
    "            peaks = res.loc[(res['value'] == 1) & (res['dur']>=4), :]\n",
    "\n",
    "            for i_c, c in enumerate(peaks['start']):\n",
    "                ax[0].axvspan(peaks['start'].to_numpy()[i_c], peaks['end'].to_numpy()[i_c], color=both_data['color'],fill=True, alpha=0.9)\n",
    "                ax[1].axvspan(peaks['start'].to_numpy()[i_c], peaks['end'].to_numpy()[i_c], color=both_data['color'],fill=True, alpha=0.9)\n",
    "\n",
    "            # plot traces\n",
    "            ax[0].plot(time, disc_sim_net[:,i], color='k')\n",
    "            ax[0].set_xlim((0,movie_dur))\n",
    "            ax[0].set_title('Discovery')            \n",
    "            ax[1].plot(time, rep_sim_net[:,i], color='k')\n",
    "            ax[1].set_xlim((0,movie_dur))\n",
    "            ax[1].set_title('Replication')\n",
    "\n",
    "            both_data[net]['peaks'] = peaks\n",
    "            plt.suptitle(net)\n",
    "            sns.despine()\n",
    "            plt.tight_layout()\n",
    "            plt.savefig(os.path.join(out_folder, 'Network_bysite_synchrony_{0}.svg'.format(net)))\n",
    "            plt.close()\n",
    "\n",
    "        fig, ax = plt.subplots(len(nois),1,figsize=(12,2*len(nois)), sharex=True)\n",
    "        for i, net in enumerate(nois):    \n",
    "            ax[i].plot(time, disc_sim_net[:,i], color='k')\n",
    "            ax[i].set_xlim((0,movie_dur))\n",
    "            ax[i].set_title(net)\n",
    "\n",
    "            peaks = both_data[net]['peaks']\n",
    "            for i_c, c in enumerate(peaks['start']):\n",
    "                ax[i].axvspan(peaks['start'].to_numpy()[i_c], peaks['end'].to_numpy()[i_c], color=both_data['color'],fill=True, alpha=0.9)\n",
    "                ax[i].axvspan(peaks['start'].to_numpy()[i_c], peaks['end'].to_numpy()[i_c], color=both_data['color'],fill=True, alpha=0.9)\n",
    "\n",
    "        sns.despine()\n",
    "        plt.tight_layout()\n",
    "        plt.savefig(os.path.join(out_folder, 'Networks_all_synchrony.svg'))\n",
    "        plt.close()\n",
    "\n",
    "        ### Find differences in peak versus non-peak in terms of video features\n",
    "        for net in nois:\n",
    "            peak_mask = both_data[net]['long_peaks']['both'].to_numpy()\n",
    "            ratings_file = '/Users/catcamacho/Library/CloudStorage/Box-Box/CCP/HBN_study/HBN_video_coding/processing/v1/summary/{0}_summary_codes_intuitivenames.csv'.format(movie)\n",
    "            out_file = os.path.join(out_folder, '{0}_peak_differences.svg'.format(net))\n",
    "            if (peak_mask.max()==1):\n",
    "                both_data[net]['peak_quant_analysis'] = find_peak_rating_diffs(peak_mask, ratings_file, movie_dur, out_file, color=both_data['color'], TR=TR, alpha=0.05, fdr=True, shift=6)\n",
    "\n",
    "        ### find which clips are promoting the most activation\n",
    "        for net in nois:\n",
    "            peaktimes = both_data[net]['peaks']\n",
    "            peaktimes.loc[:,'meanact'] = peaktimes.loc[:,['disc_mean','rep_mean']].mean(axis=1)\n",
    "            peaktimes.loc[:,'maxact'] = peaktimes.loc[:,['disc_max','rep_max']].mean(axis=1)\n",
    "            peaktimes = peaktimes.sort_values(by='maxact', ascending=False)\n",
    "            peaktimes.index = range(1, len(peaktimes)+1)\n",
    "            both_data[net]['peak_qual_analysis'] = peaktimes\n",
    "            outfolder = os.path.join(out_folder, 'clips_{0}'.format(net))\n",
    "            os.makedirs(outfolder, exist_ok=True)\n",
    "            peaktimes.to_csv(os.path.join(outfolder, 'peak_analysis_{0}.csv'.format(net)))\n",
    "            shift = 5 #in seconds\n",
    "            ratings_file = '/Users/catcamacho/Library/CloudStorage/Box-Box/CCP/HBN_study/HBN_video_coding/processing/v1/summary/{0}_summary_codes10Hz_intuitivenames.csv'.format(movie)\n",
    "            match_peak_to_clips(peaktimes, shift, video_file, outfolder, ratings_file, \n",
    "                                bool_list=['faces','body','closeup','spoken_words','written_words'],\n",
    "                                dim_list=['positive','negative','brightness','loudness','saliency'])\n",
    "\n",
    "        ## pickle results\n",
    "        f = open(os.path.join(out_folder, 'Discovery_raw_signal_data.pkl'),'wb')\n",
    "        pickle.dump(discovery_data,f)\n",
    "        f = open(os.path.join(out_folder, 'Replication_raw_signal_data.pkl'),'wb')\n",
    "        pickle.dump(replication_data,f)\n",
    "        f = open(os.path.join(out_folder, 'final_peaks_data.pkl'),'wb')\n",
    "        pickle.dump(both_data,f)"
   ]
  },
  {
   "cell_type": "markdown",
   "id": "9256cbd0-a98e-4177-90a0-49d1a4143929",
   "metadata": {},
   "source": [
    "## plot oldest, youngest, and middle 20%"
   ]
  },
  {
   "cell_type": "code",
   "execution_count": null,
   "id": "be386f2c-079c-47dc-a6ac-2e02e18d308b",
   "metadata": {},
   "outputs": [],
   "source": [
    "mat = 'age'\n",
    "nois = ['Visual', 'Auditory', 'DorsalAttn', 'VentralAttn', 'CinguloOperc', 'Default', 'FrontoParietal'] \n",
    "\n",
    "for movie in ['TP','DM']:\n",
    "    if movie=='DM':\n",
    "        video_file = '/Users/catcamacho/Library/CloudStorage/Box-Box/CCP/HBN_study/HBN_video_coding/Videos/Despicable_Me_1000.mp4'\n",
    "        movie_dur=600\n",
    "    else:\n",
    "        video_file = '/Users/catcamacho/Library/CloudStorage/Box-Box/CCP/HBN_study/HBN_video_coding/Videos/The_Present_0321.mp4'\n",
    "        movie_dur = 200\n",
    "\n",
    "    # identify youngest 20% of sample\n",
    "    discmetric = subinfo.loc[(subinfo['site']=='rubic') & (subinfo['movie']==movie) & np.isfinite(subinfo[mat]),mat].to_numpy()\n",
    "    discmask = (discmetric<=np.percentile(discmetric, 20)).astype(int)\n",
    "    repmetric = subinfo.loc[(subinfo['site']=='cbic') & (subinfo['movie']==movie) & np.isfinite(subinfo[mat]),mat].to_numpy()\n",
    "    repmask = (repmetric<=np.percentile(repmetric, 20)).astype(int)\n",
    "\n",
    "    out_folder = os.path.join(out_dir, 'maturity','dynamic_movie{0}_{1}_bottom20'.format(movie, mat))\n",
    "    os.makedirs(out_folder, exist_ok=True)\n",
    "\n",
    "    # pull discovery data\n",
    "    disc_phase_file = os.path.join(out_dir, 'maturity', 'dynamic_rubic_movie{0}_{1}'.format(movie, mat), \n",
    "                                   'phase_data_rubic_movie{0}.npy'.format(movie))\n",
    "    disc_phase = np.load(disc_phase_file)[:,:, discmask==1]\n",
    "    out_prefix = os.path.join(out_folder, 'disc_youngest20_')\n",
    "    disc_mean_sim, _ = compute_isps(disc_phase, out_prefix)\n",
    "\n",
    "    # pull replication data\n",
    "    rep_phase_file = os.path.join(out_dir, 'maturity', 'dynamic_cbic_movie{0}_{1}'.format(movie, mat), \n",
    "                                  'phase_data_cbic_movie{0}.npy'.format(movie))\n",
    "    rep_phase = np.load(rep_phase_file)[:,:, repmask==1]\n",
    "    out_prefix = os.path.join(out_folder, 'rep_youngest20_')\n",
    "    rep_mean_sim, _ = compute_isps(rep_phase, out_prefix)"
   ]
  },
  {
   "cell_type": "code",
   "execution_count": null,
   "id": "5880a338-59ce-4590-af02-f6a3089369b6",
   "metadata": {},
   "outputs": [],
   "source": [
    "mat = 'age'\n",
    "nois = ['Visual', 'Auditory', 'DorsalAttn', 'VentralAttn', 'CinguloOperc', 'Default', 'FrontoParietal'] \n",
    "\n",
    "for movie in ['TP','DM']:\n",
    "    if movie=='DM':\n",
    "        video_file = '/Users/catcamacho/Library/CloudStorage/Box-Box/CCP/HBN_study/HBN_video_coding/Videos/Despicable_Me_1000.mp4'\n",
    "        movie_dur=600\n",
    "    else:\n",
    "        video_file = '/Users/catcamacho/Library/CloudStorage/Box-Box/CCP/HBN_study/HBN_video_coding/Videos/The_Present_0321.mp4'\n",
    "        movie_dur = 200\n",
    "\n",
    "    # identify middle 20% of sample\n",
    "    discmetric = subinfo.loc[(subinfo['site']=='rubic') & (subinfo['movie']==movie) & np.isfinite(subinfo[mat]),mat].to_numpy()\n",
    "    discmask = ((discmetric>=np.percentile(discmetric, 40)) & (discmetric<=np.percentile(discmetric, 60))).astype(int)\n",
    "    repmetric = subinfo.loc[(subinfo['site']=='cbic') & (subinfo['movie']==movie) & np.isfinite(subinfo[mat]),mat].to_numpy()\n",
    "    repmask = ((repmetric>=np.percentile(repmetric, 40)) & (repmetric<=np.percentile(repmetric, 60))).astype(int)\n",
    "\n",
    "    out_folder = os.path.join(out_dir, 'maturity','dynamic_movie{0}_{1}_middle20'.format(movie, mat))\n",
    "    os.makedirs(out_folder, exist_ok=True)\n",
    "\n",
    "    # pull discovery data\n",
    "    disc_phase_file = os.path.join(out_dir, 'maturity', 'dynamic_rubic_movie{0}_{1}'.format(movie, mat), \n",
    "                                   'phase_data_rubic_movie{0}.npy'.format(movie))\n",
    "    disc_phase = np.load(disc_phase_file)[:,:, discmask==1]\n",
    "    out_prefix = os.path.join(out_folder, 'disc_middle20_')\n",
    "    disc_mean_sim, _ = compute_isps(disc_phase, out_prefix)\n",
    "\n",
    "    # pull replication data\n",
    "    rep_phase_file = os.path.join(out_dir, 'maturity', 'dynamic_cbic_movie{0}_{1}'.format(movie, mat), \n",
    "                                  'phase_data_cbic_movie{0}.npy'.format(movie))\n",
    "    rep_phase = np.load(rep_phase_file)[:,:, repmask==1]\n",
    "    out_prefix = os.path.join(out_folder, 'rep_middle20_')\n",
    "    rep_mean_sim, _ = compute_isps(rep_phase, out_prefix)"
   ]
  },
  {
   "cell_type": "code",
   "execution_count": null,
   "id": "8cd3fa47-ef40-44e5-a822-d19aba32d247",
   "metadata": {},
   "outputs": [],
   "source": [
    "for movie in ['TP','DM']:\n",
    "    if movie=='TP':\n",
    "        movie_dur = 200\n",
    "    else:\n",
    "        movie_dur = 600\n",
    "    time = np.arange(0,movie_dur, 0.8)\n",
    "    out_folder = os.path.join(out_dir, 'maturity','dynamic_movie{0}_{1}_both'.format(movie, mat))\n",
    "    os.makedirs(out_folder, exist_ok=True)\n",
    "    \n",
    "    # load data from oldest 20% of sample\n",
    "    top_folder = os.path.join(out_dir, 'maturity','dynamic_movie{0}_{1}_top20'.format(movie, mat))\n",
    "    top_peaks = pickle.load(open(os.path.join(top_folder, 'final_peaks_data.pkl'),'rb'))\n",
    "    top_disc_mean = np.load(os.path.join(top_folder, 'disc_oldest20_mean_isps_data.npy'))\n",
    "    top_rep_mean = np.load(os.path.join(top_folder, 'rep_oldest20_mean_isps_data.npy'))\n",
    "    \n",
    "    # load data from middle 20% of sample\n",
    "    mid_folder = os.path.join(out_dir, 'maturity','dynamic_movie{0}_{1}_middle20'.format(movie, mat))\n",
    "    mid_disc_mean = np.load(os.path.join(mid_folder, 'disc_middle20_mean_isps_data.npy'))\n",
    "    mid_rep_mean = np.load(os.path.join(mid_folder, 'rep_middle20_mean_isps_data.npy'))\n",
    "\n",
    "    # load data from youngest 20% of sample\n",
    "    bot_folder = os.path.join(out_dir, 'maturity','dynamic_movie{0}_{1}_bottom20'.format(movie, mat))\n",
    "    bot_disc_mean = np.load(os.path.join(bot_folder, 'disc_youngest20_mean_isps_data.npy'))\n",
    "    bot_rep_mean = np.load(os.path.join(bot_folder, 'rep_youngest20_mean_isps_data.npy'))\n",
    "\n",
    "    for i, n in enumerate(nois):\n",
    "        # plot disc and replication\n",
    "        fig, ax = plt.subplots(2,1,figsize=(12,6), sharex=True, sharey=True)\n",
    "        for i_c, c in enumerate(top_peaks[n]['peaks'].index):\n",
    "            ax[0].axvspan(top_peaks[n]['peaks'].loc[c, 'start'], top_peaks[n]['peaks'].loc[c, 'end'], color='#B9B4BD',fill=True, alpha=0.9)\n",
    "            ax[1].axvspan(top_peaks[n]['peaks'].loc[c, 'start'], top_peaks[n]['peaks'].loc[c, 'end'], color='#B9B4BD',fill=True, alpha=0.9)\n",
    "\n",
    "        # plot traces\n",
    "        ax[0].plot(time, np.mean(top_disc_mean[:,network_labels==n], axis=1), color='#9B59DA')\n",
    "        ax[0].plot(time, np.mean(mid_disc_mean[:,network_labels==n], axis=1), color='#62388a')\n",
    "        ax[0].plot(time, np.mean(bot_disc_mean[:,network_labels==n], axis=1), color='k')\n",
    "        ax[0].set_xlim((0,movie_dur))\n",
    "        ax[0].set_title('Discovery')            \n",
    "        ax[1].plot(time, np.mean(top_rep_mean[:,network_labels==n], axis=1), color='#9B59DA')\n",
    "        ax[1].plot(time, np.mean(mid_rep_mean[:,network_labels==n], axis=1), color='#62388a')\n",
    "        ax[1].plot(time, np.mean(bot_rep_mean[:,network_labels==n], axis=1), color='k')\n",
    "        ax[1].set_xlim((0,movie_dur))\n",
    "        ax[1].set_title('Replication')\n",
    "        plt.suptitle(n)\n",
    "        sns.despine()\n",
    "        plt.tight_layout()\n",
    "        plt.savefig(os.path.join(out_folder, 'Network_bysite_synchrony_{0}.svg'.format(n)))\n",
    "        plt.show()\n",
    "        plt.close()\n",
    "\n",
    "    fig, ax = plt.subplots(len(nois),1,figsize=(12,2*len(nois)), sharex=True)\n",
    "    for i, n in enumerate(nois):    \n",
    "        ax[i].plot(time, np.mean(top_disc_mean[:,network_labels==n], axis=1), color='#9B59DA')\n",
    "        ax[i].plot(time, np.mean(mid_disc_mean[:,network_labels==n], axis=1), color='#62388a')\n",
    "        ax[i].plot(time, np.mean(bot_disc_mean[:,network_labels==n], axis=1), color='k')\n",
    "        ax[i].set_xlim((0,movie_dur))\n",
    "        ax[i].set_title(n)\n",
    "\n",
    "        for i_c, c in enumerate(top_peaks[n]['peaks'].index):\n",
    "            ax[i].axvspan(top_peaks[n]['peaks'].loc[c, 'start'], top_peaks[n]['peaks'].loc[c, 'end'], color='#B9B4BD',fill=True, alpha=0.9)\n",
    "\n",
    "    sns.despine()\n",
    "    plt.tight_layout()\n",
    "    plt.savefig(os.path.join(out_folder, 'Networks_all_synchrony.svg'))\n",
    "    plt.show()\n",
    "    plt.close()"
   ]
  },
  {
   "cell_type": "code",
   "execution_count": null,
   "id": "abc92e1c-e503-459e-8637-01b5abb524af",
   "metadata": {},
   "outputs": [],
   "source": []
  }
 ],
 "metadata": {
  "kernelspec": {
   "display_name": "Python 3 (ipykernel)",
   "language": "python",
   "name": "python3"
  },
  "language_info": {
   "codemirror_mode": {
    "name": "ipython",
    "version": 3
   },
   "file_extension": ".py",
   "mimetype": "text/x-python",
   "name": "python",
   "nbconvert_exporter": "python",
   "pygments_lexer": "ipython3",
   "version": "3.8.9"
  }
 },
 "nbformat": 4,
 "nbformat_minor": 5
}
